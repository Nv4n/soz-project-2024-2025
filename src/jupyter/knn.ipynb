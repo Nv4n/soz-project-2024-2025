{
 "cells": [
  {
   "cell_type": "markdown",
   "metadata": {},
   "source": [
    "# Кратко описание на задачата\n",
    "> Система за препоръки на книги, като препоръките се базират на рейтинг от читателите/потребителите. На данните би могло да се приложи ре-филтрация по възраст на читателите. Основен проблем, който би следвало да се реши преди ре-филтрацията е, че около 40% от читателите не са посочили възрастта си, което води до нужда от поправки/зачистване в данните преди ре-филтрацията, което на по-късен етап установихме, че води до загуба на информация и неточности в модела. Естествено, в следната документация предлагаме пълния процес, през който преминахме в изграждането на система за препоръки на книги.\n",
    ">\n",
    "> Забележка: Преди да достигнем крайната реализация на задачата си преминахме през няколко различни потенциални подхода за решаване на подобна задача, но основен подход, на който се спряхме, за реализация на задачата ни е k-NN алгоритъма във варианта му на a-NN (k-NN алгоритъм с приближение). За да изведем съображенията, които ни насочиха да тръгнем в тази посока би било редно да опишем подходите и експериментите, които проведохме, заедно с техните резултати и изводи, както и да покажем с какво a-NN подхода превъзхожда всички останали, изпробвани алгоритми в условностите на задачата ни. Повече информация за процеса на имплементация, както и за преценката за нужния ни алгоритъм може да намерите в графа Използвани алгоритми на документацията.\n",
    ">\n",
    "> **Забележка**: Кодът е разработен на Python със съответно необходимите му библиотеки като:\n",
    ">\n",
    "> 1. Numpy\n",
    "> 2. pandas\n",
    "> 3. sklearn.neighbors\n",
    "> 4. scikit-learn (от sklearn.neighbors)\n",
    "> 5. sklearn.metrics\n",
    "> 6. sklearn.model_selection\n",
    "> 7. scipy.stats\n",
    "> 8. scipy.sparse\n",
    "> 9. warnings"
   ]
  },
  {
   "cell_type": "markdown",
   "metadata": {},
   "source": [
    "# Използвани данни\n",
    "> Данните, които разглеждаме като CSV файлове са предоставени от **Amazon Web Services**.\n",
    "\n",
    "## Users\n",
    "Информацията, която се съхранява за читателите е техните уникални идентификационни номера (User-ID), локациите им (Location) и възрастта им.\n",
    "\n",
    "## Books\n",
    "Информацията, която се съхранява за книгите включва ISBN номерата им, загавие (Book-Title), автор (Book-Author), година на публикаци (Year-Of-Publication) и издателство на книгата (Publisher).\n",
    "\n",
    "## Ratings\n",
    "Информацията, която се съхранява за оценките на книгите включва кой потребител (User-ID) коя книга (ISBN) а е оценил и каква е била самата оценка (число в интервала от 1 до 10, вписано в полето Book-Rating)."
   ]
  },
  {
   "cell_type": "markdown",
   "metadata": {},
   "source": [
    "# Организация на файловете\n",
    "- docs - папка, която съдържа документацията на проекта (, тоест текущо разглеждания от Вас файл), както и папка resources и прилежащите й файлове, необходии за изграждането на документацията на проекта.\n",
    "    - resources - папка, съдържаща всички необходими ресурсни файлове за създаването на документацията на проекта (например скрийншотите, включени в нея).\n",
    "- public- папка, съдържаща глобално достъпни (и от двамата разработчици) файлове, необходими за осмислянето на задачата и построението на решението.\n",
    "- src - папка, съдържаща данните за обработка, изходния код на системата и Jupyter notebook-а, описващ достатъчно подробно кода и прилежащите му примери. Цялото това съдържание условно се разделя в следните три папки:\n",
    "    - code - папка, която съдържа изходния код на всички проведени експерименти, както и изходния код на крайния алгоритъм, използван за решаването на проблема.\n",
    "    - data - папка, съдържаща всички CSV таблици, използвани в процеса на разработка на системата.\n",
    "    - jupyter - папка, съдържаща ipynb файла на въпросния Jupyter notebook, използван за демонстрация на работата на системата и документация на самата демонстрация."
   ]
  },
  {
   "cell_type": "markdown",
   "metadata": {},
   "source": [
    "# Използвани алгоритми\n",
    "## Експерименти\n",
    "\n",
    "### Експеримент k-NN алгоритъм \n",
    "\n",
    "Импортиране на използваните dataset-ове.\n"
   ]
  },
  {
   "cell_type": "code",
   "execution_count": 2,
   "metadata": {},
   "outputs": [],
   "source": [
    "import pandas as pd\n",
    "import numpy as np\n",
    "from pprint import pprint as pp\n",
    "from sklearn.neighbors import NearestNeighbors\n",
    "from scipy.sparse import csr_matrix\n",
    "\n",
    "df_ratings = pd.read_csv(\"../data/Ratings.csv\", na_values=[\"null\", \"nan\", \"\"])\n",
    "df_books = pd.read_csv(\n",
    "    \"../data/Books.csv\",\n",
    "    na_values=[\"null\", \"nan\", \"\"],\n",
    "    usecols=[\"ISBN\", \"Book-Title\", \"Book-Author\"],\n",
    ")\n",
    "df_users = pd.read_csv(\"../data/Users.csv\", na_values=[\"null\", \"nan\", \"\"])\n",
    "\n",
    "df_books = df_books.fillna(\"NaN\")\n",
    "df_ratings = df_ratings.dropna()"
   ]
  },
  {
   "cell_type": "markdown",
   "metadata": {},
   "source": [
    "#### Преброяване на броя рейтинги, които са получили книгите:\n",
    "\n",
    "- групиране на рейтингите по ISBN;\n",
    "- преброяване на рейтингите;\n"
   ]
  },
  {
   "cell_type": "code",
   "execution_count": 3,
   "metadata": {},
   "outputs": [],
   "source": [
    "combine_book_ratings = pd.merge(df_ratings, df_books, on=\"ISBN\")\n",
    "combine_book_ratings = combine_book_ratings.drop([\"Book-Author\"], axis=\"columns\")\n",
    "\n",
    "book_rating_count = (\n",
    "    combine_book_ratings.groupby(by=[\"ISBN\"])[\"Book-Rating\"]\n",
    "    .count()\n",
    "    .reset_index()\n",
    "    .rename(columns={\"Book-Rating\": \"RatingCount\"})\n",
    ")[[\"ISBN\", \"RatingCount\"]]"
   ]
  },
  {
   "cell_type": "markdown",
   "metadata": {},
   "source": [
    "#### Извличане на най-оценяваните книги:\n",
    "\n",
    "- Извличаме стойностите на квантилите на броя рейтинги в 90% на 100%.\n",
    "- За статистическа значимост избираме топ 10% най-оценявани книги.\n"
   ]
  },
  {
   "cell_type": "code",
   "execution_count": 4,
   "metadata": {},
   "outputs": [
    {
     "name": "stdout",
     "output_type": "stream",
     "text": [
      "0.90    136.0\n",
      "0.91    150.0\n",
      "0.92    167.0\n",
      "0.93    184.0\n",
      "0.94    209.0\n",
      "0.95    236.0\n",
      "0.96    277.0\n",
      "0.97    350.0\n",
      "0.98    420.0\n",
      "0.99    568.0\n",
      "Name: RatingCount, dtype: float64\n"
     ]
    }
   ],
   "source": [
    "book_rating_with_total_count = combine_book_ratings.merge(\n",
    "    book_rating_count, on=[\"ISBN\"], how=\"left\"\n",
    ")\n",
    "pp(book_rating_with_total_count[\"RatingCount\"].quantile(np.arange(0.9, 1, 0.01)))\n",
    "# Top 10% of rating counts\n",
    "popularity_threshold = 136\n",
    "\n",
    "rating_popular_books = book_rating_with_total_count.query(\n",
    "    \"RatingCount >= @popularity_threshold\"\n",
    ")"
   ]
  },
  {
   "cell_type": "markdown",
   "metadata": {},
   "source": [
    "#### Дефиниране на k-NN модела:\n",
    "\n",
    "- Използваме пивот таблиза за дефиниране на модела\n",
    "  - Индекс: ISBN\n",
    "  - Колони: User-ID\n",
    "  - Стойности: Book-Rating\n",
    "- k-NN модел\n",
    "  - метрика: cosine\n",
    "  - алгоритъм: auto\n"
   ]
  },
  {
   "cell_type": "code",
   "execution_count": 5,
   "metadata": {},
   "outputs": [
    {
     "data": {
      "text/html": [
       "<style>#sk-container-id-1 {\n",
       "  /* Definition of color scheme common for light and dark mode */\n",
       "  --sklearn-color-text: black;\n",
       "  --sklearn-color-line: gray;\n",
       "  /* Definition of color scheme for unfitted estimators */\n",
       "  --sklearn-color-unfitted-level-0: #fff5e6;\n",
       "  --sklearn-color-unfitted-level-1: #f6e4d2;\n",
       "  --sklearn-color-unfitted-level-2: #ffe0b3;\n",
       "  --sklearn-color-unfitted-level-3: chocolate;\n",
       "  /* Definition of color scheme for fitted estimators */\n",
       "  --sklearn-color-fitted-level-0: #f0f8ff;\n",
       "  --sklearn-color-fitted-level-1: #d4ebff;\n",
       "  --sklearn-color-fitted-level-2: #b3dbfd;\n",
       "  --sklearn-color-fitted-level-3: cornflowerblue;\n",
       "\n",
       "  /* Specific color for light theme */\n",
       "  --sklearn-color-text-on-default-background: var(--sg-text-color, var(--theme-code-foreground, var(--jp-content-font-color1, black)));\n",
       "  --sklearn-color-background: var(--sg-background-color, var(--theme-background, var(--jp-layout-color0, white)));\n",
       "  --sklearn-color-border-box: var(--sg-text-color, var(--theme-code-foreground, var(--jp-content-font-color1, black)));\n",
       "  --sklearn-color-icon: #696969;\n",
       "\n",
       "  @media (prefers-color-scheme: dark) {\n",
       "    /* Redefinition of color scheme for dark theme */\n",
       "    --sklearn-color-text-on-default-background: var(--sg-text-color, var(--theme-code-foreground, var(--jp-content-font-color1, white)));\n",
       "    --sklearn-color-background: var(--sg-background-color, var(--theme-background, var(--jp-layout-color0, #111)));\n",
       "    --sklearn-color-border-box: var(--sg-text-color, var(--theme-code-foreground, var(--jp-content-font-color1, white)));\n",
       "    --sklearn-color-icon: #878787;\n",
       "  }\n",
       "}\n",
       "\n",
       "#sk-container-id-1 {\n",
       "  color: var(--sklearn-color-text);\n",
       "}\n",
       "\n",
       "#sk-container-id-1 pre {\n",
       "  padding: 0;\n",
       "}\n",
       "\n",
       "#sk-container-id-1 input.sk-hidden--visually {\n",
       "  border: 0;\n",
       "  clip: rect(1px 1px 1px 1px);\n",
       "  clip: rect(1px, 1px, 1px, 1px);\n",
       "  height: 1px;\n",
       "  margin: -1px;\n",
       "  overflow: hidden;\n",
       "  padding: 0;\n",
       "  position: absolute;\n",
       "  width: 1px;\n",
       "}\n",
       "\n",
       "#sk-container-id-1 div.sk-dashed-wrapped {\n",
       "  border: 1px dashed var(--sklearn-color-line);\n",
       "  margin: 0 0.4em 0.5em 0.4em;\n",
       "  box-sizing: border-box;\n",
       "  padding-bottom: 0.4em;\n",
       "  background-color: var(--sklearn-color-background);\n",
       "}\n",
       "\n",
       "#sk-container-id-1 div.sk-container {\n",
       "  /* jupyter's `normalize.less` sets `[hidden] { display: none; }`\n",
       "     but bootstrap.min.css set `[hidden] { display: none !important; }`\n",
       "     so we also need the `!important` here to be able to override the\n",
       "     default hidden behavior on the sphinx rendered scikit-learn.org.\n",
       "     See: https://github.com/scikit-learn/scikit-learn/issues/21755 */\n",
       "  display: inline-block !important;\n",
       "  position: relative;\n",
       "}\n",
       "\n",
       "#sk-container-id-1 div.sk-text-repr-fallback {\n",
       "  display: none;\n",
       "}\n",
       "\n",
       "div.sk-parallel-item,\n",
       "div.sk-serial,\n",
       "div.sk-item {\n",
       "  /* draw centered vertical line to link estimators */\n",
       "  background-image: linear-gradient(var(--sklearn-color-text-on-default-background), var(--sklearn-color-text-on-default-background));\n",
       "  background-size: 2px 100%;\n",
       "  background-repeat: no-repeat;\n",
       "  background-position: center center;\n",
       "}\n",
       "\n",
       "/* Parallel-specific style estimator block */\n",
       "\n",
       "#sk-container-id-1 div.sk-parallel-item::after {\n",
       "  content: \"\";\n",
       "  width: 100%;\n",
       "  border-bottom: 2px solid var(--sklearn-color-text-on-default-background);\n",
       "  flex-grow: 1;\n",
       "}\n",
       "\n",
       "#sk-container-id-1 div.sk-parallel {\n",
       "  display: flex;\n",
       "  align-items: stretch;\n",
       "  justify-content: center;\n",
       "  background-color: var(--sklearn-color-background);\n",
       "  position: relative;\n",
       "}\n",
       "\n",
       "#sk-container-id-1 div.sk-parallel-item {\n",
       "  display: flex;\n",
       "  flex-direction: column;\n",
       "}\n",
       "\n",
       "#sk-container-id-1 div.sk-parallel-item:first-child::after {\n",
       "  align-self: flex-end;\n",
       "  width: 50%;\n",
       "}\n",
       "\n",
       "#sk-container-id-1 div.sk-parallel-item:last-child::after {\n",
       "  align-self: flex-start;\n",
       "  width: 50%;\n",
       "}\n",
       "\n",
       "#sk-container-id-1 div.sk-parallel-item:only-child::after {\n",
       "  width: 0;\n",
       "}\n",
       "\n",
       "/* Serial-specific style estimator block */\n",
       "\n",
       "#sk-container-id-1 div.sk-serial {\n",
       "  display: flex;\n",
       "  flex-direction: column;\n",
       "  align-items: center;\n",
       "  background-color: var(--sklearn-color-background);\n",
       "  padding-right: 1em;\n",
       "  padding-left: 1em;\n",
       "}\n",
       "\n",
       "\n",
       "/* Toggleable style: style used for estimator/Pipeline/ColumnTransformer box that is\n",
       "clickable and can be expanded/collapsed.\n",
       "- Pipeline and ColumnTransformer use this feature and define the default style\n",
       "- Estimators will overwrite some part of the style using the `sk-estimator` class\n",
       "*/\n",
       "\n",
       "/* Pipeline and ColumnTransformer style (default) */\n",
       "\n",
       "#sk-container-id-1 div.sk-toggleable {\n",
       "  /* Default theme specific background. It is overwritten whether we have a\n",
       "  specific estimator or a Pipeline/ColumnTransformer */\n",
       "  background-color: var(--sklearn-color-background);\n",
       "}\n",
       "\n",
       "/* Toggleable label */\n",
       "#sk-container-id-1 label.sk-toggleable__label {\n",
       "  cursor: pointer;\n",
       "  display: block;\n",
       "  width: 100%;\n",
       "  margin-bottom: 0;\n",
       "  padding: 0.5em;\n",
       "  box-sizing: border-box;\n",
       "  text-align: center;\n",
       "}\n",
       "\n",
       "#sk-container-id-1 label.sk-toggleable__label-arrow:before {\n",
       "  /* Arrow on the left of the label */\n",
       "  content: \"▸\";\n",
       "  float: left;\n",
       "  margin-right: 0.25em;\n",
       "  color: var(--sklearn-color-icon);\n",
       "}\n",
       "\n",
       "#sk-container-id-1 label.sk-toggleable__label-arrow:hover:before {\n",
       "  color: var(--sklearn-color-text);\n",
       "}\n",
       "\n",
       "/* Toggleable content - dropdown */\n",
       "\n",
       "#sk-container-id-1 div.sk-toggleable__content {\n",
       "  max-height: 0;\n",
       "  max-width: 0;\n",
       "  overflow: hidden;\n",
       "  text-align: left;\n",
       "  /* unfitted */\n",
       "  background-color: var(--sklearn-color-unfitted-level-0);\n",
       "}\n",
       "\n",
       "#sk-container-id-1 div.sk-toggleable__content.fitted {\n",
       "  /* fitted */\n",
       "  background-color: var(--sklearn-color-fitted-level-0);\n",
       "}\n",
       "\n",
       "#sk-container-id-1 div.sk-toggleable__content pre {\n",
       "  margin: 0.2em;\n",
       "  border-radius: 0.25em;\n",
       "  color: var(--sklearn-color-text);\n",
       "  /* unfitted */\n",
       "  background-color: var(--sklearn-color-unfitted-level-0);\n",
       "}\n",
       "\n",
       "#sk-container-id-1 div.sk-toggleable__content.fitted pre {\n",
       "  /* unfitted */\n",
       "  background-color: var(--sklearn-color-fitted-level-0);\n",
       "}\n",
       "\n",
       "#sk-container-id-1 input.sk-toggleable__control:checked~div.sk-toggleable__content {\n",
       "  /* Expand drop-down */\n",
       "  max-height: 200px;\n",
       "  max-width: 100%;\n",
       "  overflow: auto;\n",
       "}\n",
       "\n",
       "#sk-container-id-1 input.sk-toggleable__control:checked~label.sk-toggleable__label-arrow:before {\n",
       "  content: \"▾\";\n",
       "}\n",
       "\n",
       "/* Pipeline/ColumnTransformer-specific style */\n",
       "\n",
       "#sk-container-id-1 div.sk-label input.sk-toggleable__control:checked~label.sk-toggleable__label {\n",
       "  color: var(--sklearn-color-text);\n",
       "  background-color: var(--sklearn-color-unfitted-level-2);\n",
       "}\n",
       "\n",
       "#sk-container-id-1 div.sk-label.fitted input.sk-toggleable__control:checked~label.sk-toggleable__label {\n",
       "  background-color: var(--sklearn-color-fitted-level-2);\n",
       "}\n",
       "\n",
       "/* Estimator-specific style */\n",
       "\n",
       "/* Colorize estimator box */\n",
       "#sk-container-id-1 div.sk-estimator input.sk-toggleable__control:checked~label.sk-toggleable__label {\n",
       "  /* unfitted */\n",
       "  background-color: var(--sklearn-color-unfitted-level-2);\n",
       "}\n",
       "\n",
       "#sk-container-id-1 div.sk-estimator.fitted input.sk-toggleable__control:checked~label.sk-toggleable__label {\n",
       "  /* fitted */\n",
       "  background-color: var(--sklearn-color-fitted-level-2);\n",
       "}\n",
       "\n",
       "#sk-container-id-1 div.sk-label label.sk-toggleable__label,\n",
       "#sk-container-id-1 div.sk-label label {\n",
       "  /* The background is the default theme color */\n",
       "  color: var(--sklearn-color-text-on-default-background);\n",
       "}\n",
       "\n",
       "/* On hover, darken the color of the background */\n",
       "#sk-container-id-1 div.sk-label:hover label.sk-toggleable__label {\n",
       "  color: var(--sklearn-color-text);\n",
       "  background-color: var(--sklearn-color-unfitted-level-2);\n",
       "}\n",
       "\n",
       "/* Label box, darken color on hover, fitted */\n",
       "#sk-container-id-1 div.sk-label.fitted:hover label.sk-toggleable__label.fitted {\n",
       "  color: var(--sklearn-color-text);\n",
       "  background-color: var(--sklearn-color-fitted-level-2);\n",
       "}\n",
       "\n",
       "/* Estimator label */\n",
       "\n",
       "#sk-container-id-1 div.sk-label label {\n",
       "  font-family: monospace;\n",
       "  font-weight: bold;\n",
       "  display: inline-block;\n",
       "  line-height: 1.2em;\n",
       "}\n",
       "\n",
       "#sk-container-id-1 div.sk-label-container {\n",
       "  text-align: center;\n",
       "}\n",
       "\n",
       "/* Estimator-specific */\n",
       "#sk-container-id-1 div.sk-estimator {\n",
       "  font-family: monospace;\n",
       "  border: 1px dotted var(--sklearn-color-border-box);\n",
       "  border-radius: 0.25em;\n",
       "  box-sizing: border-box;\n",
       "  margin-bottom: 0.5em;\n",
       "  /* unfitted */\n",
       "  background-color: var(--sklearn-color-unfitted-level-0);\n",
       "}\n",
       "\n",
       "#sk-container-id-1 div.sk-estimator.fitted {\n",
       "  /* fitted */\n",
       "  background-color: var(--sklearn-color-fitted-level-0);\n",
       "}\n",
       "\n",
       "/* on hover */\n",
       "#sk-container-id-1 div.sk-estimator:hover {\n",
       "  /* unfitted */\n",
       "  background-color: var(--sklearn-color-unfitted-level-2);\n",
       "}\n",
       "\n",
       "#sk-container-id-1 div.sk-estimator.fitted:hover {\n",
       "  /* fitted */\n",
       "  background-color: var(--sklearn-color-fitted-level-2);\n",
       "}\n",
       "\n",
       "/* Specification for estimator info (e.g. \"i\" and \"?\") */\n",
       "\n",
       "/* Common style for \"i\" and \"?\" */\n",
       "\n",
       ".sk-estimator-doc-link,\n",
       "a:link.sk-estimator-doc-link,\n",
       "a:visited.sk-estimator-doc-link {\n",
       "  float: right;\n",
       "  font-size: smaller;\n",
       "  line-height: 1em;\n",
       "  font-family: monospace;\n",
       "  background-color: var(--sklearn-color-background);\n",
       "  border-radius: 1em;\n",
       "  height: 1em;\n",
       "  width: 1em;\n",
       "  text-decoration: none !important;\n",
       "  margin-left: 1ex;\n",
       "  /* unfitted */\n",
       "  border: var(--sklearn-color-unfitted-level-1) 1pt solid;\n",
       "  color: var(--sklearn-color-unfitted-level-1);\n",
       "}\n",
       "\n",
       ".sk-estimator-doc-link.fitted,\n",
       "a:link.sk-estimator-doc-link.fitted,\n",
       "a:visited.sk-estimator-doc-link.fitted {\n",
       "  /* fitted */\n",
       "  border: var(--sklearn-color-fitted-level-1) 1pt solid;\n",
       "  color: var(--sklearn-color-fitted-level-1);\n",
       "}\n",
       "\n",
       "/* On hover */\n",
       "div.sk-estimator:hover .sk-estimator-doc-link:hover,\n",
       ".sk-estimator-doc-link:hover,\n",
       "div.sk-label-container:hover .sk-estimator-doc-link:hover,\n",
       ".sk-estimator-doc-link:hover {\n",
       "  /* unfitted */\n",
       "  background-color: var(--sklearn-color-unfitted-level-3);\n",
       "  color: var(--sklearn-color-background);\n",
       "  text-decoration: none;\n",
       "}\n",
       "\n",
       "div.sk-estimator.fitted:hover .sk-estimator-doc-link.fitted:hover,\n",
       ".sk-estimator-doc-link.fitted:hover,\n",
       "div.sk-label-container:hover .sk-estimator-doc-link.fitted:hover,\n",
       ".sk-estimator-doc-link.fitted:hover {\n",
       "  /* fitted */\n",
       "  background-color: var(--sklearn-color-fitted-level-3);\n",
       "  color: var(--sklearn-color-background);\n",
       "  text-decoration: none;\n",
       "}\n",
       "\n",
       "/* Span, style for the box shown on hovering the info icon */\n",
       ".sk-estimator-doc-link span {\n",
       "  display: none;\n",
       "  z-index: 9999;\n",
       "  position: relative;\n",
       "  font-weight: normal;\n",
       "  right: .2ex;\n",
       "  padding: .5ex;\n",
       "  margin: .5ex;\n",
       "  width: min-content;\n",
       "  min-width: 20ex;\n",
       "  max-width: 50ex;\n",
       "  color: var(--sklearn-color-text);\n",
       "  box-shadow: 2pt 2pt 4pt #999;\n",
       "  /* unfitted */\n",
       "  background: var(--sklearn-color-unfitted-level-0);\n",
       "  border: .5pt solid var(--sklearn-color-unfitted-level-3);\n",
       "}\n",
       "\n",
       ".sk-estimator-doc-link.fitted span {\n",
       "  /* fitted */\n",
       "  background: var(--sklearn-color-fitted-level-0);\n",
       "  border: var(--sklearn-color-fitted-level-3);\n",
       "}\n",
       "\n",
       ".sk-estimator-doc-link:hover span {\n",
       "  display: block;\n",
       "}\n",
       "\n",
       "/* \"?\"-specific style due to the `<a>` HTML tag */\n",
       "\n",
       "#sk-container-id-1 a.estimator_doc_link {\n",
       "  float: right;\n",
       "  font-size: 1rem;\n",
       "  line-height: 1em;\n",
       "  font-family: monospace;\n",
       "  background-color: var(--sklearn-color-background);\n",
       "  border-radius: 1rem;\n",
       "  height: 1rem;\n",
       "  width: 1rem;\n",
       "  text-decoration: none;\n",
       "  /* unfitted */\n",
       "  color: var(--sklearn-color-unfitted-level-1);\n",
       "  border: var(--sklearn-color-unfitted-level-1) 1pt solid;\n",
       "}\n",
       "\n",
       "#sk-container-id-1 a.estimator_doc_link.fitted {\n",
       "  /* fitted */\n",
       "  border: var(--sklearn-color-fitted-level-1) 1pt solid;\n",
       "  color: var(--sklearn-color-fitted-level-1);\n",
       "}\n",
       "\n",
       "/* On hover */\n",
       "#sk-container-id-1 a.estimator_doc_link:hover {\n",
       "  /* unfitted */\n",
       "  background-color: var(--sklearn-color-unfitted-level-3);\n",
       "  color: var(--sklearn-color-background);\n",
       "  text-decoration: none;\n",
       "}\n",
       "\n",
       "#sk-container-id-1 a.estimator_doc_link.fitted:hover {\n",
       "  /* fitted */\n",
       "  background-color: var(--sklearn-color-fitted-level-3);\n",
       "}\n",
       "</style><div id=\"sk-container-id-1\" class=\"sk-top-container\"><div class=\"sk-text-repr-fallback\"><pre>NearestNeighbors(metric=&#x27;cosine&#x27;)</pre><b>In a Jupyter environment, please rerun this cell to show the HTML representation or trust the notebook. <br />On GitHub, the HTML representation is unable to render, please try loading this page with nbviewer.org.</b></div><div class=\"sk-container\" hidden><div class=\"sk-item\"><div class=\"sk-estimator fitted sk-toggleable\"><input class=\"sk-toggleable__control sk-hidden--visually\" id=\"sk-estimator-id-1\" type=\"checkbox\" checked><label for=\"sk-estimator-id-1\" class=\"sk-toggleable__label fitted sk-toggleable__label-arrow fitted\">&nbsp;&nbsp;NearestNeighbors<a class=\"sk-estimator-doc-link fitted\" rel=\"noreferrer\" target=\"_blank\" href=\"https://scikit-learn.org/1.5/modules/generated/sklearn.neighbors.NearestNeighbors.html\">?<span>Documentation for NearestNeighbors</span></a><span class=\"sk-estimator-doc-link fitted\">i<span>Fitted</span></span></label><div class=\"sk-toggleable__content fitted\"><pre>NearestNeighbors(metric=&#x27;cosine&#x27;)</pre></div> </div></div></div></div>"
      ],
      "text/plain": [
       "NearestNeighbors(metric='cosine')"
      ]
     },
     "execution_count": 5,
     "metadata": {},
     "output_type": "execute_result"
    }
   ],
   "source": [
    "pivot = (\n",
    "    rating_popular_books.drop_duplicates([\"Book-Title\", \"User-ID\"])\n",
    "    .pivot(index=\"ISBN\", columns=\"User-ID\", values=\"Book-Rating\")\n",
    "    .fillna(0)\n",
    ")\n",
    "\n",
    "model_knn = NearestNeighbors(metric=\"cosine\", algorithm=\"auto\")\n",
    "model_knn.fit(csr_matrix(pivot.values))"
   ]
  },
  {
   "cell_type": "markdown",
   "metadata": {},
   "source": [
    "#### Функция за прпоръки на книги:\n",
    "\n",
    "- Използваме ISBN като индексация на пивот матрицата (таблицата).\n",
    "- Използваме модела k-NN от `sklearn.neighbors`.\n",
    "- След това групираме ISBN-ите на съседите и разстоянията от тях до търсената книга. \n",
    "- При грешка връщаме съобщение, че дадената книга не е сред топ 10% на оценяваните книги.\n"
   ]
  },
  {
   "cell_type": "code",
   "execution_count": 6,
   "metadata": {},
   "outputs": [],
   "source": [
    "def get_recommends(isbn=\"\", k_neighbors=5):\n",
    "    try:\n",
    "        x = pivot.loc[isbn].array.reshape(1, -1)\n",
    "        distances, indices = model_knn.kneighbors(x, n_neighbors=k_neighbors)\n",
    "        R_books = []\n",
    "        for distance, indice in zip(distances[0], indices[0]):\n",
    "            if distance != 0:\n",
    "                R_book = combine_book_ratings[\n",
    "                    combine_book_ratings[\"ISBN\"] == pivot.index[indice]\n",
    "                ][\"Book-Title\"].values[0]\n",
    "                R_books.append([R_book, distance])\n",
    "        recommended_books = [isbn, R_books[::-1]]\n",
    "        return recommended_books\n",
    "    except:\n",
    "        return f\"{isbn} is not in the top books\""
   ]
  },
  {
   "cell_type": "markdown",
   "metadata": {},
   "source": [
    "#### Тест на системата за препоръки на книги\n",
    "\n",
    "    Използвайки популярни ISBN-и на дадени книги, ние можем да открием най-сходните с тях.\n"
   ]
  },
  {
   "cell_type": "code",
   "execution_count": 7,
   "metadata": {},
   "outputs": [
    {
     "name": "stdout",
     "output_type": "stream",
     "text": [
      "['1558745157',\n",
      " [[\"Left Behind: A Novel of the Earth's Last Days (Left Behind No. 1)\",\n",
      "   0.9381235623430844],\n",
      "  ['Night Sins', 0.9352435834429496],\n",
      "  ['On the Street Where You Live', 0.9258003569774721],\n",
      "  ['A Child Called \\\\It\\\\\": One Child\\'s Courage to Survive\"',\n",
      "   0.7356135842239919],\n",
      "  [\"The Lost Boy: A Foster Child's Search for the Love of a Family\",\n",
      "   3.3306690738754696e-16]]]\n"
     ]
    }
   ],
   "source": [
    "pp(get_recommends(\"1558745157\"))"
   ]
  },
  {
   "cell_type": "markdown",
   "metadata": {},
   "source": [
    "### Експеримент k-NN алгоритъм с регресорна препоръка на книги и грануларно изчисление на дистанциите (между текущо изследвания пример и неговите k на брой най-близки съседи)"
   ]
  },
  {
   "cell_type": "markdown",
   "metadata": {},
   "source": [
    "#### Обединяваме данните, които ще са ни неоходими:\n",
    "- всички данни от таблицата с рейтингите и годините на читателите.\n",
    "    - Годините на читателите са ни е неоходими, тъй като искаме да направим **по-комплексна препоръка** на база **рейтингите на книгите и възрастите на читателите**.\n",
    "- проверяваме колко от читателите не са си споделили възрастта \n",
    "    - според статистика на сайта, от който взехме данните, такива читатели са около 40% от всички."
   ]
  },
  {
   "cell_type": "code",
   "execution_count": 8,
   "metadata": {},
   "outputs": [
    {
     "name": "stdout",
     "output_type": "stream",
     "text": [
      "Merged data:\n",
      "         User-ID         ISBN  Book-Rating   Age\n",
      "0         276725   034545104X            0   NaN\n",
      "1         276726   0155061224            5   NaN\n",
      "2         276727   0446520802            0  16.0\n",
      "3         276729   052165615X            3  16.0\n",
      "4         276729   0521795028            6  16.0\n",
      "...          ...          ...          ...   ...\n",
      "1149775   276704   1563526298            9   NaN\n",
      "1149776   276706   0679447156            0  18.0\n",
      "1149777   276709   0515107662           10  38.0\n",
      "1149778   276721   0590442449           10  14.0\n",
      "1149779   276723  05162443314            8  12.0\n",
      "\n",
      "[1149780 rows x 4 columns]\n",
      "\n",
      "<class 'pandas.core.frame.DataFrame'>\n",
      "RangeIndex: 1149780 entries, 0 to 1149779\n",
      "Data columns (total 4 columns):\n",
      " #   Column       Non-Null Count    Dtype  \n",
      "---  ------       --------------    -----  \n",
      " 0   User-ID      1149780 non-null  int64  \n",
      " 1   ISBN         1149780 non-null  object \n",
      " 2   Book-Rating  1149780 non-null  int64  \n",
      " 3   Age          840288 non-null   float64\n",
      "dtypes: float64(1), int64(2), object(1)\n",
      "memory usage: 35.1+ MB\n",
      "Merged data info:\n",
      "None\n",
      "\n"
     ]
    }
   ],
   "source": [
    "from scipy.stats import pearsonr\n",
    "\n",
    "merged_data = pd.merge(\n",
    "    df_ratings.dropna(), df_users[[\"User-ID\", \"Age\"]], on=\"User-ID\", how=\"inner\"\n",
    ")\n",
    "\n",
    "print(f\"Merged data:\\n{merged_data}\\n\")\n",
    "print(f\"Merged data info:\\n{merged_data.info()}\\n\")"
   ]
  },
  {
   "cell_type": "markdown",
   "metadata": {},
   "source": [
    "#### Запълваме NaN възрастите на потребителите с невалидни такива (тоест -1).\n",
    "- Проверяваме дали всички колони в **merged_data** са с еднаква дължина, защото това ще ни е неоходима стъпка за регресията"
   ]
  },
  {
   "cell_type": "code",
   "execution_count": 9,
   "metadata": {},
   "outputs": [
    {
     "name": "stdout",
     "output_type": "stream",
     "text": [
      "<class 'pandas.core.frame.DataFrame'>\n",
      "RangeIndex: 1149780 entries, 0 to 1149779\n",
      "Data columns (total 4 columns):\n",
      " #   Column       Non-Null Count    Dtype  \n",
      "---  ------       --------------    -----  \n",
      " 0   User-ID      1149780 non-null  int64  \n",
      " 1   ISBN         1149780 non-null  object \n",
      " 2   Book-Rating  1149780 non-null  int64  \n",
      " 3   Age          1149780 non-null  float64\n",
      "dtypes: float64(1), int64(2), object(1)\n",
      "memory usage: 35.1+ MB\n",
      "Cleaned of NaN values merged data info:\n",
      "None\n",
      "\n"
     ]
    }
   ],
   "source": [
    "merged_data = merged_data.fillna(value=-1)\n",
    "print(f\"Cleaned of NaN values merged data info:\\n{merged_data.info()}\\n\")"
   ]
  },
  {
   "cell_type": "markdown",
   "metadata": {},
   "source": [
    "#### Подготовка на векторите, необходими за регресионния модел.\n",
    "- Правим корелация по метода на Пиърсън, за да проврим съществува ли линейна връзка между рейтингите на книгите и възрастовите групи, очертали се сред нашите читатели.\n",
    "    - Установяваме, че липсва линейна връзка между тези два показателя , тъй като p-value-то е равно на 0.0, тоест регресионния модел не би бил удачен избор за продължение.\n",
    "- В кода си сме доразвили този процес като чист експеримент, който доведе до много лоши препоръки в потвържение на резултатите, до които доведе и корелацията. За повече детайли за този експеримент, може да разгледате кода в knn_with_regression_and_granular_computation.py в директорията src/code, както и документацията на проекта за разяснение на кода."
   ]
  },
  {
   "cell_type": "code",
   "execution_count": 10,
   "metadata": {},
   "outputs": [
    {
     "name": "stdout",
     "output_type": "stream",
     "text": [
      "Pearson Correlation: -0.03742512405050028\n",
      "P-value: 0.0\n"
     ]
    }
   ],
   "source": [
    "x_ratings = np.array(merged_data[\"Book-Rating\"])\n",
    "y_ages = np.array(merged_data[\"Age\"])\n",
    "\n",
    "correlation, p_value = pearsonr(x_ratings, y_ages)\n",
    "\n",
    "print(f\"Pearson Correlation: {correlation}\")\n",
    "print(\n",
    "    f\"P-value: {p_value}\"\n",
    ")  "
   ]
  },
  {
   "cell_type": "markdown",
   "metadata": {},
   "source": [
    "### Експеримент a-NN\n",
    "#### a-NN: HNSW разновидност"
   ]
  },
  {
   "cell_type": "markdown",
   "metadata": {},
   "source": [
    "- **Импортиране на библиотеки**: Импортират се coo_matrix от scipy.sparse и библиотеката hnswlib за работа с високоефективни пространствени индекси.\n",
    "- **Предобработка на данни**:\n",
    "- Запълват се липсващи стойности в df_books с текст \"NaN\".\n",
    "- Премахват се редове с липсващи стойности от df_ratings.\n",
    "- Запълват се липсващи стойности в df_users с -1.\n",
    "- **Обединяване на данни**: Данните за оценки на книги (df_ratings) и книги (df_books) се обединяват чрез колоната ISBN.\n",
    "- **Премахване на ненужни колони**: Колоната Book-Author се премахва от резултантния DataFrame."
   ]
  },
  {
   "cell_type": "code",
   "execution_count": 11,
   "metadata": {},
   "outputs": [],
   "source": [
    "from scipy.sparse import coo_matrix\n",
    "import hnswlib  # Library for HNSW\n",
    "\n",
    "# Data preprocessing\n",
    "df_books = df_books.fillna(\"NaN\")\n",
    "df_ratings = df_ratings.dropna()\n",
    "df_users = df_users.fillna(-1)\n",
    "\n",
    "combine_book_ratings = pd.merge(df_ratings, df_books, on=\"ISBN\")\n",
    "combine_book_ratings = combine_book_ratings.drop([\"Book-Author\"], axis=\"columns\")"
   ]
  },
  {
   "cell_type": "markdown",
   "metadata": {},
   "source": [
    "- **Групиране по ISBN**: Данните в combine_book_ratings се групират по колоната ISBN, която идентифицира книгите.\n",
    "- **Изчисляване на брой оценки**: За всяка група (книга) се изчислява броят на стойностите в колоната Book-Rating с помощта на .count().\n",
    "- **Презаписване на индекса**: След това се възстановява индексът с .reset_index(), за да се получи нов DataFrame.\n",
    "- **Преименуване на колоната**: Колоната Book-Rating се преименува на RatingCount, за да отразява броя на оценките за всяка книга."
   ]
  },
  {
   "cell_type": "code",
   "execution_count": 12,
   "metadata": {},
   "outputs": [],
   "source": [
    "# Calculate book rating counts\n",
    "book_rating_count = (\n",
    "    combine_book_ratings.groupby(\"ISBN\")[\"Book-Rating\"]\n",
    "    .count()\n",
    "    .reset_index()\n",
    "    .rename(columns={\"Book-Rating\": \"RatingCount\"})\n",
    ")"
   ]
  },
  {
   "cell_type": "markdown",
   "metadata": {},
   "source": [
    "- **Обединяване на данни**: Данните от combine_book_ratings се обединяват с book_rating_count чрез колоната ISBN, която е общата за двата DataFrame-а.\n",
    "- **Метод на обединяване**: Използва се методът left join (how=\"left\"), което означава, че всички редове от combine_book_ratings ще бъдат запазени, а стойностите от book_rating_count ще се добавят, ако има съвпадение по ISBN.\n",
    "- **Резултат**: В резултат ще се получи нов DataFrame book_rating_with_total_count, който съдържа оригиналните данни от combine_book_ratings, но с добавена информация за броя на оценките за всяка книга."
   ]
  },
  {
   "cell_type": "code",
   "execution_count": 13,
   "metadata": {},
   "outputs": [],
   "source": [
    "# Merge rating counts with the ratings data\n",
    "book_rating_with_total_count = combine_book_ratings.merge(\n",
    "    book_rating_count, on=\"ISBN\", how=\"left\"\n",
    ")"
   ]
  },
  {
   "cell_type": "markdown",
   "metadata": {},
   "source": [
    "- **Дефиниране на праг за популярност**: Задава се прагово значение за броя на оценките на книгите (popularity_threshold = 136).\n",
    "- **Филтриране на книги по популярност**: Използва се метода .query() за филтриране на редовете от book_rating_with_total_count, при които стойността на RatingCount е по-голяма или равна на зададения праг.\n",
    "- **Копиране на резултата**: Резултатът от филтрирането се копира в нов DataFrame rating_popular_books, който съдържа само тези книги, които имат равен или по-голям брой оценки от зададения праг."
   ]
  },
  {
   "cell_type": "code",
   "execution_count": 14,
   "metadata": {},
   "outputs": [],
   "source": [
    "# Filter by popularity threshold\n",
    "popularity_threshold = 136\n",
    "rating_popular_books = book_rating_with_total_count.query(\n",
    "    \"RatingCount >= @popularity_threshold\"\n",
    ").copy()"
   ]
  },
  {
   "cell_type": "markdown",
   "metadata": {},
   "source": [
    "- **Групиране по потребителски идентификатор**: Данните в rating_popular_books се групират по колоната User-ID (потребителски идентификатор), и за всяка група се изчислява броят на оценките на книги, които потребителят е оставил, чрез .count().\n",
    "- **Филтриране на активни потребители**: Потребители, които имат по-малко от 5 оценки, се считат за неактивни. Активните потребители са тези, които са оставили поне 5 оценки. Създава се индексиран списък active_users, който съдържа идентификаторите на тези потребители.\n",
    "- **Филтриране на данни по активни потребители**: Останалите редове в rating_popular_books, които съдържат оценки от неактивни потребители (с по-малко от 5 оценки), се премахват. Остават само тези оценки, които са направени от активни потребители, чрез използване на .isin(active_users)."
   ]
  },
  {
   "cell_type": "code",
   "execution_count": 15,
   "metadata": {},
   "outputs": [],
   "source": [
    "# Filter out inactive users\n",
    "user_activity = rating_popular_books.groupby(\"User-ID\")[\"Book-Rating\"].count()\n",
    "active_users = user_activity[user_activity >= 5].index\n",
    "rating_popular_books = rating_popular_books[\n",
    "    rating_popular_books[\"User-ID\"].isin(active_users)\n",
    "]"
   ]
  },
  {
   "cell_type": "markdown",
   "metadata": {},
   "source": [
    "- **Създаване на mapping за потребителите**:\n",
    "    - Създава се речник user_id_mapping, който свързва уникалните потребителски идентификатори (от колоната User-ID в rating_popular_books) с уникални индекси. Използва се enumerate() за да се генерира индекс за всеки уникален потребител.\n",
    "- **Създаване на mapping за книгите**:\n",
    "    - Създава се речник isbn_mapping, който свързва уникалните идентификатори на книги (от колоната ISBN) с уникални индекси, като отново се използва enumerate()."
   ]
  },
  {
   "cell_type": "code",
   "execution_count": 16,
   "metadata": {},
   "outputs": [],
   "source": [
    "# Precompute mappings for users and books\n",
    "user_id_mapping = {\n",
    "    user_id: idx for idx, user_id in enumerate(rating_popular_books[\"User-ID\"].unique())\n",
    "}\n",
    "isbn_mapping = {\n",
    "    isbn: idx for idx, isbn in enumerate(rating_popular_books[\"ISBN\"].unique())\n",
    "}"
   ]
  },
  {
   "cell_type": "markdown",
   "metadata": {},
   "source": [
    "- **Мапиране на потребителски идентификатори към индекси**:\n",
    "    - Колоната User-ID в DataFrame rating_popular_books се заменя с индекси от user_id_mapping чрез метода .map(). Резултатът се съхранява в новата колона User-Idx.\n",
    "- **Мапиране на идентификатори на книги към индекси**:\n",
    "    - Колоната ISBN в rating_popular_books също се заменя с индекси от isbn_mapping чрез метода .map(). Резултатът се записва в новата колона ISBN-Idx."
   ]
  },
  {
   "cell_type": "code",
   "execution_count": 17,
   "metadata": {},
   "outputs": [],
   "source": [
    "# Map User-ID and ISBN to respective indices\n",
    "rating_popular_books[\"User-Idx\"] = rating_popular_books[\"User-ID\"].map(user_id_mapping)\n",
    "rating_popular_books[\"ISBN-Idx\"] = rating_popular_books[\"ISBN\"].map(isbn_mapping)"
   ]
  },
  {
   "cell_type": "markdown",
   "metadata": {},
   "source": [
    "- **Създаване на разреден матрица (sparse matrix)**:\n",
    "    - Използва се функцията coo_matrix от библиотеката scipy.sparse, за да се създаде разредена матрица. В този случай, разредената матрица ще съдържа оценките на книги (Book-Rating).\n",
    "    - Индексите на редовете на матрицата са стойностите в ISBN-Idx (индексираните идентификатори на книгите).\n",
    "    - Индексите на колоните на матрицата са стойностите в User-Idx (индексираните идентификатори на потребителите).\n",
    "    - Размерността на матрицата е определена чрез броя на уникалните книги (използвайки len(isbn_mapping)) и броя на уникалните потребители (използвайки len(user_id_mapping)).\n",
    "- **Конвертиране на матрицата в CSR формат**:\n",
    "    - След създаването на разредената матрица в COO формат (която е подходяща за ефективно добавяне на нови стойности), тя се конвертира в CSR (Compressed Sparse Row) формат чрез метода .tocsr(). CSR е по-ефективен за операции като умножение на матрици и е подходящ за алгоритми за препоръки."
   ]
  },
  {
   "cell_type": "code",
   "execution_count": 18,
   "metadata": {},
   "outputs": [],
   "source": [
    "# Create sparse matrix\n",
    "sparse_matrix = coo_matrix(\n",
    "    (\n",
    "        rating_popular_books[\"Book-Rating\"],\n",
    "        (rating_popular_books[\"ISBN-Idx\"], rating_popular_books[\"User-Idx\"]),\n",
    "    ),\n",
    "    shape=(len(isbn_mapping), len(user_id_mapping)),\n",
    ").tocsr()"
   ]
  },
  {
   "cell_type": "markdown",
   "metadata": {},
   "source": [
    "- **Обратен мапинг за книгите**:\n",
    "    - Създава се речник index_to_isbn, който свързва индекси (стойности от isbn_mapping) с техните съответстващи ISBN стойности. Това е обратният процес на мапинга на ISBN към индексите, който е бил извършен по-рано.\n",
    "- **Обратен мапинг за потребителите**:\n",
    "    - Създава се речник index_to_user_id, който свързва индекси (стойности от user_id_mapping) с техните съответстващи User-ID стойности. Това е обратният процес на мапинга на User-ID към индексите, извършен по-рано."
   ]
  },
  {
   "cell_type": "code",
   "execution_count": 19,
   "metadata": {},
   "outputs": [],
   "source": [
    "# Reverse mappings for later use\n",
    "index_to_isbn = {idx: isbn for isbn, idx in isbn_mapping.items()}\n",
    "index_to_user_id = {idx: user_id for user_id, idx in user_id_mapping.items()}"
   ]
  },
  {
   "cell_type": "markdown",
   "metadata": {},
   "source": [
    "- Определяне на размерността:\n",
    "    - dim = sparse_matrix.shape[1] извлича броя на колоните в разредената матрица sparse_matrix, което представлява броя на потребителите (т.е. характеристиките или размерността на данните за всеки елемент). Това е използвано за дефиниране на размерността на индекса в HNSW.\n",
    "- Инициализация на HNSW индекс:\n",
    "    - Създава се HNSW индекс чрез библиотеката hnswlib, като се използва косинусово разстояние (space=\"cosine\") за измерване на сходството между елементите. Това означава, че индексът ще търси най-близките съседи чрез косинусова метрика.\n",
    "    - Параметърът dim=dim задава размерността на пространството (в този случай броя на потребителите).\n",
    "- Инициализация на индекс с параметри:\n",
    "    - Извиква се index.init_index(max_elements=sparse_matrix.shape[0], ef_construction=200, M=16) за инициализиране на HNSW индекса:\n",
    "    - max_elements=sparse_matrix.shape[0] задава максималния брой елементи, които индексът ще съдържа (тук броят на уникалните книги).\n",
    "    - ef_construction=200 задава параметър за контрол на качеството на индекса по време на изграждането му (по-висока стойност осигурява по-добро качество, но с по-високи изисквания за време).\n",
    "    - M=16 задава броя на връзките, които всяка точка ще има в индекса, което влияе на баланса между производителност и точност."
   ]
  },
  {
   "cell_type": "code",
   "execution_count": 20,
   "metadata": {},
   "outputs": [],
   "source": [
    "# Initialize HNSW index using hnswlib\n",
    "dim = sparse_matrix.shape[1]  # Number of features (users)\n",
    "index = hnswlib.Index(space=\"cosine\", dim=dim)  # Use cosine distance for similarity\n",
    "index.init_index(max_elements=sparse_matrix.shape[0], ef_construction=200, M=16)"
   ]
  },
  {
   "cell_type": "markdown",
   "metadata": {},
   "source": [
    "- Добавяне на данни в индекса:\n",
    "    - index.add_items(sparse_matrix.toarray()) добавя данни в HNSW индекса. Разредената матрица sparse_matrix се преобразува в обикновена (плътна) матрица чрез .toarray() и се добавя към индекса. Това позволява на индекса да съхранява оценките на книгите и потребителите като векторни представяния.\n",
    "- Настройване на параметър за търсене (efSearch):\n",
    "    - index.set_ef(50) настройва параметъра efSearch, който контролира точността и бързината на търсенето в индекса. По-високото значение на efSearch прави търсенето по-точно, но и по-бавно, тъй като индексът ще разглежда повече възможни съседи при търсене на най-близки елементи."
   ]
  },
  {
   "cell_type": "code",
   "execution_count": 21,
   "metadata": {},
   "outputs": [],
   "source": [
    "# Add data to the index\n",
    "index.add_items(sparse_matrix.toarray())\n",
    "# Set efSearch for querying (larger value makes the search more accurate but slower)\n",
    "index.set_ef(50)"
   ]
  },
  {
   "cell_type": "markdown",
   "metadata": {},
   "source": [
    "- Групиране на данни по ISBN: Данните в rating_popular_books се групират по колоната ISBN (идентификатор на книга), като за всяка група се изчислява размерът ѝ с .size(). Това дава броя на оценките за всяка книга.\n",
    "- Сортиране на книгите по брой оценки: Сортират се резултатите по броя на оценките (в низходящ ред) с помощта на .sort_values(ascending=False).\n",
    "- Избор на най-популярните 10 книги: Избира се първите 10 книги (най-популярните) от сортирания резултат чрез .index[:10], като се извличат само идентификаторите на тези книги и се преобразуват в списък с .tolist()."
   ]
  },
  {
   "cell_type": "code",
   "execution_count": 22,
   "metadata": {},
   "outputs": [],
   "source": [
    "# Fallback to k most popular books\n",
    "most_popular_books = (\n",
    "    rating_popular_books.groupby(\"ISBN\")\n",
    "    .size()\n",
    "    .sort_values(ascending=False)\n",
    "    .index[:10]\n",
    "    .tolist()\n",
    ")"
   ]
  },
  {
   "cell_type": "markdown",
   "metadata": {},
   "source": [
    "- Дефиниция на функцията:\n",
    "    - get_most_popular(isbn, k_neighbors=5) приема два аргумента:\n",
    "        - isbn: Идентификатор на книгата, за която искаме да намерим препоръки (това може да бъде използвано за логика на препоръки или като част от по-голям контекст).\n",
    "        - k_neighbors=5: Броят на най-популярните книги, които да се върнат като препоръки (по подразбиране е 5).\n",
    "- Резервни препоръки:\n",
    "    - Създава се списък recommended_books, който съдържа препоръчани книги от най-популярните книги (първите k_neighbors книги от списъка most_popular_books).\n",
    "    - За всяка книга от списъка most_popular_books[:k_neighbors], се извлича заглавието на книгата от combine_book_ratings, като се използва ISBN за намиране на съответната книга.\n",
    "    - Списъкът за всяка книга съдържа две стойности:\n",
    "        - Заглавието на книгата и самия ISBN.\n",
    "        - Стойност 0, което вероятно показва, че тези препоръки са базирани на популярност и нямат оценка (или са с минимална стойност).\n",
    "- Връщане на резултат:\n",
    "    - Функцията връща списък с два елемента:\n",
    "        - isbn: първоначалния идентификатор на книгата.\n",
    "        - recommended_books: списък с препоръчани книги, базирани на популярност."
   ]
  },
  {
   "cell_type": "code",
   "execution_count": 23,
   "metadata": {},
   "outputs": [],
   "source": [
    "def get_most_popular(isbn, k_neighbors=5):\n",
    "    # Fallback to most popular books\n",
    "    recommended_books = [\n",
    "        [\n",
    "            [\n",
    "                combine_book_ratings[combine_book_ratings[\"ISBN\"] == book][\n",
    "                    \"Book-Title\"\n",
    "                ].values[0],\n",
    "                book,\n",
    "            ],\n",
    "            0,\n",
    "        ]\n",
    "        for book in most_popular_books[:k_neighbors]\n",
    "    ]\n",
    "    return [isbn, recommended_books]"
   ]
  },
  {
   "cell_type": "markdown",
   "metadata": {},
   "source": [
    "- Валидация на ISBN: Проверява дали подаденият isbn е валиден, като се търси в мапинга isbn_mapping.\n",
    "- Извличане на вектор за търсене: Ако ISBN е валиден, намира индексa му в матрицата и извлича съответния вектор (представяне на книгата) от разредената матрица sparse_matrix.\n",
    "- Търсене на най-близки съседи: Използва метода knn_query на HNSW индекса, за да намери k_neighbors + 1 най-близки съседи на подадената книга, използвайки разстояния и индекси.\n",
    "- Генериране на препоръки: Препоръчва книги, като се филтрират резултатите, за да се премахнат книги, които имат разстояние >= 1 или са същата книга като търсената. Препоръките се връщат заедно с разстоянията.\n",
    "- Резервни препоръки: Ако възникне грешка или ISBN не е валиден, се извиква функцията get_most_popular, която предлага най-популярните книги."
   ]
  },
  {
   "cell_type": "code",
   "execution_count": 24,
   "metadata": {},
   "outputs": [],
   "source": [
    "# Recommendation function\n",
    "def get_recommends(isbn, k_neighbors=5):\n",
    "    try:\n",
    "        # Validate ISBN\n",
    "        if isbn in isbn_mapping:\n",
    "            # Get query vector\n",
    "            isbn_idx = isbn_mapping[isbn]\n",
    "            query_vector = sparse_matrix[isbn_idx].toarray().flatten()\n",
    "            # Query the HNSW index\n",
    "            indices, distances = index.knn_query(query_vector, k=k_neighbors + 1)\n",
    "            # Generate recommendations\n",
    "            recommendations = []\n",
    "            for distance, indice in zip(distances[0], indices[0]):\n",
    "                recommended_isbn = index_to_isbn[indice]\n",
    "                if (\n",
    "                    distance < 1 and recommended_isbn != isbn\n",
    "                ):  # Filter for meaningful results\n",
    "                    book_title_isbn = get_title_isbn(recommended_isbn)\n",
    "                    recommendations.append([book_title_isbn, distance])\n",
    "            return [isbn, recommendations[::-1]]\n",
    "        else:\n",
    "            return get_most_popular(isbn, k_neighbors)\n",
    "    except Exception as e:\n",
    "        pp(\"ERROR\")\n",
    "        pp(str(e.with_traceback()))\n",
    "        return get_most_popular(isbn, k_neighbors)"
   ]
  },
  {
   "cell_type": "markdown",
   "metadata": {},
   "source": [
    "- Дефиниция на функцията:\n",
    "    - Функцията приема един аргумент: isbn, който е идентификатор на книга (ISBN номер).\n",
    "- Извличане на заглавие на книга:\n",
    "    - combine_book_ratings[combine_book_ratings[\"ISBN\"] == isbn]: Тази част от кода търси всички редове в DataFrame combine_book_ratings, където колоната ISBN съвпада с подадения isbn.\n",
    "    - values[0]: След като е намерен редът или редовете с даденото ISBN, .values[0] извлича първото (и най-вероятно единствено) заглавие на книга от колоната Book-Title.\n",
    "- Връщане на резултата:\n",
    "    - Функцията връща списък, съдържащ два елемента:\n",
    "        - Заглавието на книгата (от колоната Book-Title).\n",
    "        - Самия ISBN, който беше подаден като аргумент."
   ]
  },
  {
   "cell_type": "code",
   "execution_count": 25,
   "metadata": {},
   "outputs": [],
   "source": [
    "def get_title_isbn(isbn):\n",
    "    return [\n",
    "        combine_book_ratings[combine_book_ratings[\"ISBN\"] == isbn][\"Book-Title\"].values[\n",
    "            0\n",
    "        ],\n",
    "        isbn,\n",
    "    ]"
   ]
  },
  {
   "cell_type": "markdown",
   "metadata": {},
   "source": [
    "- Тестване на препоръки:\n",
    "\n",
    "    - Създава се променлива example_isbn, която съдържа примерен ISBN (\"1558745157\"). Това е ISBN на книга, за която ще се извлекат препоръки.\n",
    "    - Функцията get_recommends(example_isbn, k_neighbors=5) се извиква, за да се получат препоръки за книгата с този ISBN. k_neighbors=5 указва, че искаме да получим 5 препоръчани книги.\n",
    "    - Резултатът от препоръките се извежда с помощта на pp() (което вероятно е съкращение за pprint, използвано за по-четливото отпечатване на сложни структури от данни).\n",
    "- Тестване на друга книга:\n",
    "    - Извиква се същата функция get_recommends и за друга книга, с ISBN \"0330281747\", като отново се изискват 5 препоръки."
   ]
  },
  {
   "cell_type": "code",
   "execution_count": 26,
   "metadata": {},
   "outputs": [
    {
     "name": "stdout",
     "output_type": "stream",
     "text": [
      "['1558745157',\n",
      " [[['Night Sins', '055356451X'], 0.9014358],\n",
      "  [['Icy Sparks', '0142000205'], 0.90126425],\n",
      "  [[\"Left Behind: A Novel of the Earth's Last Days (Left Behind No. 1)\",\n",
      "    '0842329129'],\n",
      "   0.89481175],\n",
      "  [['On the Street Where You Live', '0671004530'], 0.8627482],\n",
      "  [['A Child Called \\\\It\\\\\": One Child\\'s Courage to Survive\"', '1558743669'],\n",
      "   0.63628924]]]\n",
      "['0330281747',\n",
      " [[['Wild Animus', '0971880107'], 0],\n",
      "  [['The Lovely Bones: A Novel', '0316666343'], 0],\n",
      "  [['The Da Vinci Code', '0385504209'], 0],\n",
      "  [['Divine Secrets of the Ya-Ya Sisterhood: A Novel', '0060928336'], 0],\n",
      "  [['The Red Tent (Bestselling Backlist)', '0312195516'], 0]]]\n"
     ]
    }
   ],
   "source": [
    "# Test example\n",
    "example_isbn = \"1558745157\"  # Replace with an ISBN from your dataset\n",
    "pp(get_recommends(example_isbn, k_neighbors=5))\n",
    "pp(get_recommends(\"0330281747\"))"
   ]
  },
  {
   "cell_type": "markdown",
   "metadata": {},
   "source": [
    "#### a-NN: FAISS разновидност"
   ]
  },
  {
   "cell_type": "markdown",
   "metadata": {},
   "source": [
    "- Импортиране на библиотеки:\n",
    "    - Импортира се faiss, библиотека за ефективно търсене на най-близки съседи.\n",
    "    - Импортира се normalize от sklearn.preprocessing, който ще бъде използван за нормализиране на данни.\n",
    "    - Импортира се TfidfVectorizer от sklearn.feature_extraction.text, който ще се използва за извличане на TF-IDF характеристики от текстови данни.\n",
    "- Обединяване на данни:\n",
    "    - Двата DataFrame df_ratings (с оценки на книги) и df_books (с метаданни на книги) се обединяват чрез ISBN с pd.merge.\n",
    "    - След обединяването се премахва колоната Book-Author, тъй като тя не се използва в последващия анализ."
   ]
  },
  {
   "cell_type": "code",
   "execution_count": 27,
   "metadata": {},
   "outputs": [],
   "source": [
    "import faiss\n",
    "from sklearn.preprocessing import normalize\n",
    "from sklearn.feature_extraction.text import TfidfVectorizer\n",
    "\n",
    "# Merge ratings with book metadata\n",
    "combine_book_ratings = pd.merge(df_ratings, df_books, on=\"ISBN\")\n",
    "combine_book_ratings = combine_book_ratings.drop([\"Book-Author\"], axis=\"columns\")"
   ]
  },
  {
   "cell_type": "markdown",
   "metadata": {},
   "source": [
    "- Изчисляване на броя на оценките за всяка книга:\n",
    "    - combine_book_ratings.groupby(by=[\"ISBN\"])[\"Book-Rating\"].count(): Групира данните по ISBN и брои колко оценки има всяка книга.\n",
    "    - Резултатите се преобразуват в DataFrame, като колоната с броя на оценките се преименува на RatingCount.\n",
    "- Добавяне на популярността към данните:\n",
    "    - Данните с броя на оценките (book_rating_count) се обединяват с основния DataFrame combine_book_ratings, използвайки ISBN като ключ.\n",
    "    - Полученият DataFrame, book_rating_with_total_count, съдържа информация за всяка оценка, заедно с общия брой оценки за съответната книга."
   ]
  },
  {
   "cell_type": "code",
   "execution_count": 28,
   "metadata": {},
   "outputs": [],
   "source": [
    "# Calculate popularity threshold\n",
    "book_rating_count = (\n",
    "    combine_book_ratings.groupby(by=[\"ISBN\"])[\"Book-Rating\"]\n",
    "    .count()\n",
    "    .reset_index()\n",
    "    .rename(columns={\"Book-Rating\": \"RatingCount\"})\n",
    ")[[\"ISBN\", \"RatingCount\"]]\n",
    "\n",
    "book_rating_with_total_count = combine_book_ratings.merge(\n",
    "    book_rating_count, on=[\"ISBN\"], how=\"left\"\n",
    ")"
   ]
  },
  {
   "cell_type": "markdown",
   "metadata": {},
   "source": [
    "- Квантили на броя на оценките:\n",
    "    - book_rating_with_total_count[\"RatingCount\"].quantile(np.arange(0.9, 1, 0.01)): Изчислява квантили между 90% и 100% (с 1% стъпка) за колоната - RatingCount. Това показва как броят на оценките е разпределен сред книгите в горния диапазон на популярност.\n",
    "- Дефиниране на прагове за популярност:\n",
    "    - popularity_threshold = 136: Определя се прагът за популярност — книги с 136 или повече оценки ще се считат за популярни.\n",
    "- Филтриране на популярни книги:\n",
    "    - popular_books: Съдържа само тези книги, които имат RatingCount >= popularity_threshold.\n",
    "- Филтриране на непопулярни книги:\n",
    "    - unpopular_books: Включва книги с броя на оценките, който е:\n",
    "        - По-малък от popularity_threshold.\n",
    "        - По-голям от 0 (за да изключи книги без никакви оценки)."
   ]
  },
  {
   "cell_type": "code",
   "execution_count": 29,
   "metadata": {},
   "outputs": [
    {
     "name": "stdout",
     "output_type": "stream",
     "text": [
      "0.90    136.0\n",
      "0.91    150.0\n",
      "0.92    167.0\n",
      "0.93    184.0\n",
      "0.94    209.0\n",
      "0.95    236.0\n",
      "0.96    277.0\n",
      "0.97    350.0\n",
      "0.98    420.0\n",
      "0.99    568.0\n",
      "Name: RatingCount, dtype: float64\n"
     ]
    }
   ],
   "source": [
    "# Thresholds\n",
    "pp(book_rating_with_total_count[\"RatingCount\"].quantile(np.arange(0.9, 1, 0.01)))\n",
    "popularity_threshold = 136\n",
    "popular_books = book_rating_with_total_count.query(\n",
    "    \"RatingCount >= @popularity_threshold\"\n",
    ")\n",
    "unpopular_books = book_rating_with_total_count.query(\n",
    "    \"RatingCount < @popularity_threshold & RatingCount > 0\"\n",
    ")"
   ]
  },
  {
   "cell_type": "markdown",
   "metadata": {},
   "source": [
    "- Премахване на дублиращи се записи:\n",
    "    - popular_books.drop_duplicates([\"ISBN\", \"User-ID\"]): Премахват се дублиращи се комбинации от ISBN (идентификатор на книга) и User-ID (идентификатор на потребител), за да се гарантира уникалност.\n",
    "- Създаване на пивотна таблица:\n",
    "    - .pivot(index=\"ISBN\", columns=\"User-ID\", values=\"Book-Rating\"): Трансформира данните в пивотна таблица, където:\n",
    "        - Редовете (index) са ISBN на книгите.\n",
    "        - Колоните (columns) са User-ID на потребителите.\n",
    "        - Стойностите (values) са оценките на книгите (Book-Rating).\n",
    "- Попълване на липсващи стойности:\n",
    "    - .fillna(0): Замества липсващите стойности в матрицата с 0, за да се улесни обработката."
   ]
  },
  {
   "cell_type": "code",
   "execution_count": 30,
   "metadata": {},
   "outputs": [],
   "source": [
    "# Create embeddings for popular books\n",
    "pivot_popular = (\n",
    "    popular_books.drop_duplicates([\"ISBN\", \"User-ID\"])\n",
    "    .pivot(index=\"ISBN\", columns=\"User-ID\", values=\"Book-Rating\")\n",
    "    .fillna(0)\n",
    ")"
   ]
  },
  {
   "cell_type": "markdown",
   "metadata": {},
   "source": [
    "- Нормализиране на векторите:\n",
    "    - normalize(pivot_popular.values, axis=1, norm=\"l2\"):\n",
    "        - Нормализира редовете (вектори на книги) в pivot_popular.values, използвайки L2-норма.\n",
    "        - Това преобразува всеки вектор така, че дължината му да стане 1, което улеснява изчисляването на косинусова сходност.\n",
    "    - Създаване на списък с ISBN номера:\n",
    "        - isbn_list_popular = pivot_popular.index.tolist():\n",
    "            - Взема индекса на pivot_popular (ISBN номера на книгите) и го преобразува в списък."
   ]
  },
  {
   "cell_type": "code",
   "execution_count": 31,
   "metadata": {},
   "outputs": [],
   "source": [
    "# Normalize vectors for cosine similarity\n",
    "popular_embeddings = normalize(pivot_popular.values, axis=1, norm=\"l2\")\n",
    "isbn_list_popular = pivot_popular.index.tolist()"
   ]
  },
  {
   "cell_type": "markdown",
   "metadata": {},
   "source": [
    "- Извличане на размерността:\n",
    "    - d = popular_embeddings.shape[1]: Взема размерността на вгражданията (брой характеристики), която е броят на колоните в матрицата  popular_embeddings.\n",
    "- Създаване на Faiss индекс:\n",
    "    - faiss.IndexFlatIP(d):\n",
    "        - Създава индекс за търсене с вътрешен произведен (inner product), което е еквивалентно на косинусова сходност, когато векторите са  нормализирани (както е направено с L2-нормализация по-рано).\n",
    "- Добавяне на вграждания към индекса:\n",
    "    - index.add(popular_embeddings):\n",
    "        - Добавя нормализираните вектори (popular_embeddings) към създадения Faiss индекс, за да бъдат готови за търсене."
   ]
  },
  {
   "cell_type": "code",
   "execution_count": 32,
   "metadata": {},
   "outputs": [],
   "source": [
    "# Index popular book embeddings with Faiss\n",
    "d = popular_embeddings.shape[1]\n",
    "index = faiss.IndexFlatIP(d)  # Cosine similarity\n",
    "index.add(popular_embeddings)"
   ]
  },
  {
   "cell_type": "markdown",
   "metadata": {},
   "source": [
    "- Подготовка на данните\n",
    "    - Извличане на непопулярни книги:\n",
    "        - unpopular_titles: Съдържа записи от df_books, които съответстват на непопулярни книги (ISBN-та от unpopular_books).\n",
    "    - Обработка на празни заглавия:\n",
    "        - Заменя NaN стойности в колоната Book-Title с \"Unknown Title\".\n",
    "- TF-IDF векторизация\n",
    "    - Създаване на TF-IDF вектори:\n",
    "        - TfidfVectorizer(max_features=2000, lowercase=True): Векторизира заглавията на книги, използвайки максимум 2000 характеристики и преобразува текста в малки букви.\n",
    "        - vectorizer.fit_transform(unpopular_titles[\"Book-Title\"]).toarray(): Генерира TF-IDF матрица за заглавията на книгите.\n",
    "    - Нормализация на векторите:\n",
    "        - Нормализира векторите с L2-норма, за да улесни изчисляването на косинусова сходност.\n",
    "- Проверка за празни вектори\n",
    "    - Филтриране на празни вектори:\n",
    "        - Векторите със сумарна стойност от 0 (празни или без смислена информация) се премахват.\n",
    "        - valid_rows идентифицира валидните редове, а съответстващите ISBN се филтрират.\n",
    "- Създаване на Faiss индекс\n",
    "    - Faiss индекс за непопулярни книги:\n",
    "        - index_unpopular = faiss.IndexFlatIP(tfidf_embeddings.shape[1]): Създава индекс за косинусова сходност.\n",
    "        - index_unpopular.add(tfidf_embeddings): Добавя TF-IDF вектори за заглавията към индекса.\n",
    "- Резултат\n",
    "    - tfidf_embeddings: Нормализирани TF-IDF вектори за валидни заглавия на непопулярни книги.\n",
    "    - isbn_list_unpopular: Списък с ISBN номера на тези книги.\n",
    "    - index_unpopular: Faiss индекс, който позволява търсене на подобни книги по заглавие за непопулярни книги."
   ]
  },
  {
   "cell_type": "code",
   "execution_count": 33,
   "metadata": {},
   "outputs": [
    {
     "name": "stderr",
     "output_type": "stream",
     "text": [
      "C:\\Users\\Sybatron\\AppData\\Local\\Temp\\ipykernel_38676\\613658435.py:4: SettingWithCopyWarning: \n",
      "A value is trying to be set on a copy of a slice from a DataFrame\n",
      "\n",
      "See the caveats in the documentation: https://pandas.pydata.org/pandas-docs/stable/user_guide/indexing.html#returning-a-view-versus-a-copy\n",
      "  unpopular_titles.loc[unpopular_titles[\"Book-Title\"].isna(), \"Book-Title\"] = (\n"
     ]
    },
    {
     "name": "stdout",
     "output_type": "stream",
     "text": [
      "'TF-IDF embeddings shape: (269717, 2000)'\n",
      "'Zero embeddings count: 19920'\n",
      "'TF-IDF embeddings shape: (249797, 2000)'\n",
      "'Zero embeddings count: 0'\n"
     ]
    }
   ],
   "source": [
    "# Handle unpopular books using TF-IDF on book titles\n",
    "vectorizer = TfidfVectorizer(max_features=2000, lowercase=True)\n",
    "unpopular_titles = df_books[df_books[\"ISBN\"].isin(unpopular_books[\"ISBN\"])]\n",
    "unpopular_titles.loc[unpopular_titles[\"Book-Title\"].isna(), \"Book-Title\"] = (\n",
    "    \"Unknown Title\"\n",
    ")\n",
    "\n",
    "tfidf_embeddings = vectorizer.fit_transform(unpopular_titles[\"Book-Title\"]).toarray()\n",
    "isbn_list_unpopular = unpopular_titles[\"ISBN\"].tolist()\n",
    "if tfidf_embeddings.shape[0] > 0:\n",
    "    tfidf_embeddings = normalize(tfidf_embeddings, axis=1, norm=\"l2\")\n",
    "\n",
    "pp(f\"TF-IDF embeddings shape: {tfidf_embeddings.shape}\")\n",
    "pp(f\"Zero embeddings count: {(tfidf_embeddings.sum(axis=1) == 0).sum()}\")\n",
    "\n",
    "valid_rows = tfidf_embeddings.sum(axis=1) > 0\n",
    "tfidf_embeddings = tfidf_embeddings[valid_rows]\n",
    "isbn_list_unpopular = [\n",
    "    isbn for valid, isbn in zip(valid_rows, isbn_list_unpopular) if valid\n",
    "]\n",
    "\n",
    "pp(f\"TF-IDF embeddings shape: {tfidf_embeddings.shape}\")\n",
    "pp(f\"Zero embeddings count: {(tfidf_embeddings.sum(axis=1) == 0).sum()}\")\n",
    "\n",
    "index_unpopular = faiss.IndexFlatIP(tfidf_embeddings.shape[1])\n",
    "index_unpopular.add(tfidf_embeddings)"
   ]
  },
  {
   "cell_type": "markdown",
   "metadata": {},
   "source": [
    "- Групиране по ISBN:\n",
    "    - popular_books.groupby(\"ISBN\").size(): Групира данните за популярни книги по ISBN и изчислява броя на записите за всяка книга, което съответства на броя на потребителите, които са я оценили.\n",
    "- Сортиране по популярност:\n",
    "    - .sort_values(ascending=False): Сортира книгите в низходящ ред по броя на оценките (най-популярните първи).\n",
    "- Избиране на топ 10 най-популярни книги:\n",
    "    - .index[:10].tolist(): Взема първите 10 ISBN номера от сортирания списък и ги преобразува в списък."
   ]
  },
  {
   "cell_type": "code",
   "execution_count": 34,
   "metadata": {},
   "outputs": [],
   "source": [
    "# Fallback to k most popular books\n",
    "most_popular_books = (\n",
    "    popular_books.groupby(\"ISBN\")\n",
    "    .size()\n",
    "    .sort_values(ascending=False)\n",
    "    .index[:10]\n",
    "    .tolist()\n",
    ")"
   ]
  },
  {
   "cell_type": "markdown",
   "metadata": {},
   "source": [
    "- Параметри:\n",
    "    - isbn: ISBN номерът на книгата, за която се иска препоръка.\n",
    "    - k_neighbors=5: Броят книги за препоръка (по подразбиране 5).\n",
    "- Създаване на препоръки:\n",
    "    - Цикъл през най-популярните книги:\n",
    "        - for book in most_popular_books[:k_neighbors]: Избира първите k_neighbors книги от списъка с най-популярни книги.\n",
    "- Извличане на заглавие и ISBN:\n",
    "    - combine_book_ratings[combine_book_ratings[\"ISBN\"] == book][\"Book-Title\"].values[0]: Намира заглавието на книгата от combine_book_ratings по нейния ISBN.\n",
    "- Формат на препоръката:\n",
    "    - Всяка препоръка е представена като:\n",
    "        [[<Book-Title>, <ISBN>], 0]\n",
    "        - <Book-Title>: Заглавието на книгата.\n",
    "        - <ISBN>: ISBN номерът на книгата.\n",
    "        - 0: Разстоянието или сходството (фиксирано на 0 в този случай, тъй като препоръките не се базират на сходство).\n",
    "- Връщане на резултата:\n",
    "    - Списък с препоръки: return [isbn, recommended_books]: Връща текущия isbn и списъка с препоръки."
   ]
  },
  {
   "cell_type": "code",
   "execution_count": 35,
   "metadata": {},
   "outputs": [],
   "source": [
    "def get_most_popular(isbn, k_neighbors=5):\n",
    "    # Fallback to most popular books\n",
    "    recommended_books = [\n",
    "        [\n",
    "            [\n",
    "                combine_book_ratings[combine_book_ratings[\"ISBN\"] == book][\n",
    "                    \"Book-Title\"\n",
    "                ].values[0],\n",
    "                book,\n",
    "            ],\n",
    "            0,\n",
    "        ]\n",
    "        for book in most_popular_books[:k_neighbors]\n",
    "    ]\n",
    "    return [isbn, recommended_books]"
   ]
  },
  {
   "cell_type": "markdown",
   "metadata": {},
   "source": [
    "- Параметри:\n",
    "    - isbn: ISBN номерът на книгата, за която се търсят препоръки.\n",
    "    - k_neighbors=5: Броят препоръчани книги.\n",
    "- Обработка на популярни книги:\n",
    "    - Проверява дали isbn е в списъка с популярни книги (isbn_list_popular).\n",
    "    - Намира най-близките съседи, използвайки Faiss индекс върху вгражданията (popular_embeddings).\n",
    "    - Добавя препоръки, базирани на сходство (дистанция > 0 и различен ISBN).\n",
    "- Обработка на непопулярни книги:\n",
    "    - Проверява дали isbn е в списъка с непопулярни книги (isbn_list_unpopular).\n",
    "    - Ако има валидни TF-IDF вграждания, използва Faiss индекс върху тях.\n",
    "    - Генерира препоръки, като изключва текущата книга и резултати с нулева дистанция.\n",
    "- Резервна стратегия:\n",
    "    - Ако isbn не е намерен в нито един от списъците или има грешка, връща най-популярните книги чрез get_most_popular.\n",
    "- Резултат:\n",
    "    - Връща списък с препоръки във формат [isbn, recommended_books], където всяка препоръка съдържа:\n",
    "        - Заглавие и ISBN на препоръчаната книга.\n",
    "        - Сходство/дистанция между книгите."
   ]
  },
  {
   "cell_type": "code",
   "execution_count": 36,
   "metadata": {},
   "outputs": [],
   "source": [
    "# Recommendation function\n",
    "def get_recommends(isbn, k_neighbors=5):\n",
    "    try:\n",
    "        if isbn in isbn_list_popular:\n",
    "            idx = isbn_list_popular.index(isbn)\n",
    "            distances, indices = index.search(\n",
    "                popular_embeddings[idx].reshape(1, -1), k_neighbors + 1\n",
    "            )\n",
    "            recommended_books = [\n",
    "                [get_title_isbn(isbn_list_popular[i]), distances[0][j]]\n",
    "                for j, i in enumerate(indices[0])\n",
    "                if distances[0][j] > 0 and isbn_list_popular[i] != isbn\n",
    "            ]\n",
    "        elif isbn in isbn_list_unpopular:\n",
    "            if tfidf_embeddings.shape[0] <= 0:\n",
    "                pp(\"No valid TF-IDF embeddings. Falling back to most popular books.\")\n",
    "                return get_most_popular(isbn, k_neighbors)\n",
    "            idx = isbn_list_unpopular.index(isbn)\n",
    "            distances, indices = index_unpopular.search(\n",
    "                normalize(tfidf_embeddings[idx].reshape(1, -1)), k_neighbors + 1\n",
    "            )\n",
    "            recommended_books = [\n",
    "                [get_title_isbn(isbn_list_unpopular[i]), distances[0][j]]\n",
    "                for j, i in enumerate(indices[0])\n",
    "                if distances[0][j] > 0 and isbn_list_unpopular[i] != isbn\n",
    "            ]\n",
    "        else:\n",
    "            return get_most_popular(isbn, k_neighbors)\n",
    "    except Exception as e:\n",
    "        pp(\"ERROR\")\n",
    "        pp(str(e.with_traceback()))\n",
    "        return get_most_popular(isbn, k_neighbors)\n",
    "    return [isbn, recommended_books]"
   ]
  },
  {
   "cell_type": "markdown",
   "metadata": {},
   "source": [
    "- Търсене на заглавие по ISBN:\n",
    "    - combine_book_ratings[combine_book_ratings[\"ISBN\"] == isbn]: Филтрира данни, за да намери редовете, където ISBN съвпада с подадения isbn.\n",
    "    [\"Book-Title\"].values[0]: Извлича първото заглавие (Book-Title) от филтрираните данни.\n",
    "- Резултат:\n",
    "    - Връща списък с два елемента:\n",
    "        - Заглавието на книгата.\n",
    "        - ISBN номерът на книгата."
   ]
  },
  {
   "cell_type": "code",
   "execution_count": 37,
   "metadata": {},
   "outputs": [],
   "source": [
    "def get_title_isbn(isbn):\n",
    "    return [\n",
    "        combine_book_ratings[combine_book_ratings[\"ISBN\"] == isbn][\"Book-Title\"].values[\n",
    "            0\n",
    "        ],\n",
    "        isbn,\n",
    "    ]\n"
   ]
  },
  {
   "cell_type": "markdown",
   "metadata": {},
   "source": [
    "Тестваме функцията за препоръки на книги."
   ]
  },
  {
   "cell_type": "code",
   "execution_count": 38,
   "metadata": {},
   "outputs": [
    {
     "name": "stdout",
     "output_type": "stream",
     "text": [
      "['1558745157',\n",
      " [[['A Child Called \\\\It\\\\\": One Child\\'s Courage to Survive\"', '1558743669'],\n",
      "   0.26438642],\n",
      "  [['On the Street Where You Live', '0671004530'], 0.07419965],\n",
      "  [['Night Sins', '055356451X'], 0.064756416],\n",
      "  [[\"Left Behind: A Novel of the Earth's Last Days (Left Behind No. 1)\",\n",
      "    '0842329129'],\n",
      "   0.061876435],\n",
      "  [['L Is for Lawless', '0449221490'], 0.061851475]]]\n",
      "['0330281747',\n",
      " [[['The crystal bucket: Television criticism from the Observer, 1976-79',\n",
      "    '0224018906'],\n",
      "   0.7108932],\n",
      "  [['The Box: An Oral History of Television, 1920-1961', '0140252657'],\n",
      "   0.6335434],\n",
      "  [['Channels of Discourse, Reassembled: Television and Contemporary Criticism',\n",
      "    '0807843741'],\n",
      "   0.61701965],\n",
      "  [['The Television Detectives, 1948-1978', '0498022366'], 0.57000047],\n",
      "  [['The Houdini Box', '0679814299'], 0.54777056]]]\n"
     ]
    }
   ],
   "source": [
    "# Test the function\n",
    "pp(get_recommends(\"1558745157\"))\n",
    "pp(get_recommends(\"0330281747\"))"
   ]
  },
  {
   "cell_type": "markdown",
   "metadata": {},
   "source": [
    "#### a-NN: ANNOY разновидност"
   ]
  },
  {
   "cell_type": "markdown",
   "metadata": {},
   "source": [
    "- Изчисляване на популярността на книгите:\n",
    "    - Групиране по ISBN и броене на оценки:\n",
    "        - combine_book_ratings.groupby(by=[\"ISBN\"])[\"Book-Rating\"].count(): Групира данните по ISBN и брои колко пъти е оценявана всяка книга.\n",
    "    - Преобразуване на резултата в DataFrame:\n",
    "        - .reset_index(): Съсредоточава резултата в DataFrame и връща индексите обратно към редове.\n",
    "        - .rename(columns={\"Book-Rating\": \"RatingCount\"}): Преименува колоната с броя на оценките на RatingCount за по-ясно наименование.\n",
    "- Обединяване на броя на оценките с основните данни:\n",
    "    - Сливане на данните:\n",
    "        - combine_book_ratings.merge(book_rating_count, on=[\"ISBN\"], how=\"left\"): Извършва ляво сливане (left join) между основния DataFrame combine_book_ratings и book_rating_count по колоната ISBN. Това добавя информация за броя на оценките за всяка книга към основния DataFrame."
   ]
  },
  {
   "cell_type": "code",
   "execution_count": 39,
   "metadata": {},
   "outputs": [],
   "source": [
    "from annoy import AnnoyIndex\n",
    "\n",
    "# Compute book popularity\n",
    "book_rating_count = (\n",
    "    combine_book_ratings.groupby(by=[\"ISBN\"])[\"Book-Rating\"]\n",
    "    .count()\n",
    "    .reset_index()\n",
    "    .rename(columns={\"Book-Rating\": \"RatingCount\"})\n",
    ")[[\"ISBN\", \"RatingCount\"]]\n",
    "\n",
    "book_rating_with_total_count = combine_book_ratings.merge(\n",
    "    book_rating_count, on=[\"ISBN\"], how=\"left\"\n",
    ")"
   ]
  },
  {
   "cell_type": "markdown",
   "metadata": {},
   "source": [
    "- Изчисляване на квантилите:\n",
    "    - book_rating_with_total_count[\"RatingCount\"].quantile(np.arange(0.9, 1, 0.01)):\n",
    "        - Изчислява квантилите на броя на оценките (RatingCount) за книгите, като използва стойности в интервала от 0.9 до 1 с интервал от 0.01. Това показва разпределението на броя на оценките в този диапазон, което може да помогне за определяне на прага на популярност.\n",
    "- Задаване на праг на популярност:\n",
    "    - popularity_threshold = 136: Установява праг от 136 за минималния брой оценки, който една книга трябва да има, за да бъде считана за популярна.\n",
    "- Филтриране на популярни книги:\n",
    "    - book_rating_with_total_count.query(\"RatingCount >= @popularity_threshold\"): Използва метод .query() за да филтрира книгите, които имат брой оценки (RatingCount) по-голям или равен на popularity_threshold (136). Това създава нов DataFrame, съдържащ само популярни книги."
   ]
  },
  {
   "cell_type": "code",
   "execution_count": 40,
   "metadata": {},
   "outputs": [
    {
     "name": "stdout",
     "output_type": "stream",
     "text": [
      "0.90    136.0\n",
      "0.91    150.0\n",
      "0.92    167.0\n",
      "0.93    184.0\n",
      "0.94    209.0\n",
      "0.95    236.0\n",
      "0.96    277.0\n",
      "0.97    350.0\n",
      "0.98    420.0\n",
      "0.99    568.0\n",
      "Name: RatingCount, dtype: float64\n"
     ]
    }
   ],
   "source": [
    "# Thresholds\n",
    "pp(book_rating_with_total_count[\"RatingCount\"].quantile(np.arange(0.9, 1, 0.01)))\n",
    "popularity_threshold = 136\n",
    "\n",
    "popular_books = book_rating_with_total_count.query(\n",
    "    \"RatingCount >= @popularity_threshold\"\n",
    ")"
   ]
  },
  {
   "cell_type": "markdown",
   "metadata": {},
   "source": [
    "- Изграждане на матрица на потребителите и книгите:\n",
    "    - Преобразуване на данни в пивотирана таблица:\n",
    "        - popular_books.drop_duplicates([\"ISBN\", \"User-ID\"]): Премахва дублиращи се записи за всяка комбинация от потребител и книга, така че всяка книга да има само една оценка от даден потребител.\n",
    "        - .pivot(index=\"ISBN\", columns=\"User-ID\", values=\"Book-Rating\"): Създава пивотирана таблица, където:\n",
    "    - Индексът на редовете е ISBN (книгите).\n",
    "    - Колоните са User-ID (потребителите).\n",
    "    - Стойностите в клетките са оценките на книгите (колоната Book-Rating).\n",
    "        - .fillna(0): Попълва липсващите стойности с 0, което означава, че ако даден потребител не е оценил дадена книга, стойността ще бъде 0.\n",
    "2. Създаване на разредена матрица:\n",
    "    - sparse_matrix = csr_matrix(user_book_matrix.values): Преобразува пивотирана таблица в разредена матрица (CSR формат), използвайки метод csr_matrix. Това е ефективен начин за съхранение на големи матрици, които съдържат много нули."
   ]
  },
  {
   "cell_type": "code",
   "execution_count": 41,
   "metadata": {},
   "outputs": [],
   "source": [
    "# Popular annoy\n",
    "\n",
    "# Sparse matrix\n",
    "user_book_matrix = (\n",
    "    popular_books.drop_duplicates([\"ISBN\", \"User-ID\"])\n",
    "    .pivot(index=\"ISBN\", columns=\"User-ID\", values=\"Book-Rating\")\n",
    "    .fillna(0)\n",
    ")\n",
    "\n",
    "sparse_matrix = csr_matrix(user_book_matrix.values)"
   ]
  },
  {
   "cell_type": "markdown",
   "metadata": {},
   "source": [
    "- Настройване на параметрите за Annoy Index:\n",
    "    - num_features = sparse_matrix.shape[1]: Това определя броя на характеристиките (потребителите) в разредената матрица, като взема броя на колоните (shape[1]), т.е. колко различни потребители има в базата данни.\n",
    "    - annoy_index = AnnoyIndex(num_features, metric=\"angular\"): Създава нов индекс Annoy с определен брой характеристики (num_features) и използва \"angular\" метриката за изчисляване на разстояния (ангуларно разстояние, което е подходящо за вектори, нормализирани за косинусно сходство).\n",
    "- Мапинг на ISBN и индекси:\n",
    "    - isbn_to_index = {isbn: idx for idx, isbn in enumerate(user_book_matrix.index)}: Създава речник, който свързва ISBN на книга с индекс в пивотирания DataFrame user_book_matrix. Това позволява бързо намиране на индекс на книга по нейния ISBN.\n",
    "    - index_to_isbn = {idx: isbn for isbn, idx in isbn_to_index.items()}: Създава обратен речник, който свързва индекс с ISBN. Това е полезно за връщане на резултатите от индекса в оригиналния формат.\n",
    "- Добавяне на елементи към Annoy Index:\n",
    "    - for idx, row in enumerate(sparse_matrix):: Итерация през всяка ред на разредената матрица (sparse_matrix), който представлява оценките на книгата от всички потребители.\n",
    "    - annoy_index.add_item(idx, row.toarray()[0]): Добавя всеки ред от разредената матрица към Annoy индекса. Всеки ред е преобразуван в масив (toarray()[0]), който съдържа оценките за съответната книга.\n",
    "- Изграждане на индекса:\n",
    "    - annoy_index.build(n_trees=10): Изгражда Annoy индекс с 10 дървета. Повече дървета обикновено водят до по-точни резултати, но и по-бавно изграждане."
   ]
  },
  {
   "cell_type": "code",
   "execution_count": 42,
   "metadata": {},
   "outputs": [
    {
     "data": {
      "text/plain": [
       "True"
      ]
     },
     "execution_count": 42,
     "metadata": {},
     "output_type": "execute_result"
    }
   ],
   "source": [
    "# Build Annoy Index for all books\n",
    "num_features = sparse_matrix.shape[1]\n",
    "annoy_index = AnnoyIndex(num_features, metric=\"angular\")\n",
    "\n",
    "isbn_to_index = {isbn: idx for idx, isbn in enumerate(user_book_matrix.index)}\n",
    "index_to_isbn = {idx: isbn for isbn, idx in isbn_to_index.items()}\n",
    "\n",
    "for idx, row in enumerate(sparse_matrix):\n",
    "    annoy_index.add_item(idx, row.toarray()[0])\n",
    "\n",
    "annoy_index.build(n_trees=10)"
   ]
  },
  {
   "cell_type": "markdown",
   "metadata": {},
   "source": [
    "- Групиране по ISBN:\n",
    "    - popular_books.groupby(\"ISBN\"): Групира книгите по ISBN, което означава, че всички оценки за една и съща книга ще бъдат обработени заедно.\n",
    "- Броене на книгите:\n",
    "    - .size(): Изчислява броя на записите (оценките) за всяка група. Това ще даде общия брой на оценките за всяка книга в popular_books.\n",
    "- Сортиране по брой оценки:\n",
    "    - .sort_values(ascending=False): Сортира групите по брой оценки в низходящ ред, като по този начин най-популярните книги (с най-много оценки) ще бъдат в началото.\n",
    "- Избиране на 10 най-популярни книги:\n",
    "    - .index[:10]: Взима индексите (ISBN на книгите) на първите 10 най-популярни книги (с най-много оценки).\n",
    "    - .tolist(): Преобразува резултата в списък от ISBN на най-популярните книги."
   ]
  },
  {
   "cell_type": "code",
   "execution_count": 43,
   "metadata": {},
   "outputs": [],
   "source": [
    "# Fallback to k most popular books\n",
    "most_popular_books = (\n",
    "    popular_books.groupby(\"ISBN\")\n",
    "    .size()\n",
    "    .sort_values(ascending=False)\n",
    "    .index[:10]\n",
    "    .tolist()\n",
    ")"
   ]
  },
  {
   "cell_type": "markdown",
   "metadata": {},
   "source": [
    "- Проверка за ISBN:\n",
    "    - Функцията приема ISBN на книга и броя на съседите (k_neighbors), които да бъдат върнати.\n",
    "    - if isbn in isbn_to_index:: Проверява дали ISBN на книгата се намира в мапинга на индексите. Ако не, се използват най-популярните книги като резервно решение.\n",
    "- Извличане на най-близки съседи с Annoy:\n",
    "    - isbn_idx = isbn_to_index[isbn]: Получава индекса на книгата в Annoy индекса чрез нейното ISBN.\n",
    "    - annoy_index.get_nns_by_item(isbn_idx, k_neighbors + 1, include_distances=True): Извлича k_neighbors + 1 най-близки съседи на книгата, включително разстоянията. Извлечените резултати съдържат индекси на книги и тяхното разстояние от въпросната книга.\n",
    "- Подготовка на препоръките:\n",
    "    - За всеки съседен индекс:\n",
    "        - neighbor_isbn = index_to_isbn[neighbor_idx]: Преобразува индекса обратно в ISBN.\n",
    "    - Проверява дали съседната книга е същата като изходната книга и я пропуска, ако е така.\n",
    "    - Извлича заглавието на съседната книга от combine_book_ratings.\n",
    "- Връщане на резултати:\n",
    "    - Ако има намерени препоръки, връща списък с препоръчани книги и тяхното разстояние.\n",
    "    - Ако ISBN не се намира в индекса, връща списък с най-популярните книги, като резервен вариант.\n",
    "- Обработка на грешки:\n",
    "    - Ако възникне грешка, тя се записва и връща като съобщение за грешка."
   ]
  },
  {
   "cell_type": "code",
   "execution_count": 44,
   "metadata": {},
   "outputs": [],
   "source": [
    "# Recommendation function\n",
    "def get_recommends(isbn=\"\", k_neighbors=5):\n",
    "    try:\n",
    "        if isbn in isbn_to_index:\n",
    "            isbn_idx = isbn_to_index[isbn]\n",
    "            nearest_neighbors = annoy_index.get_nns_by_item(\n",
    "                isbn_idx, k_neighbors + 1, include_distances=True\n",
    "            )\n",
    "            R_books = []\n",
    "            for neighbor_idx, distance in zip(*nearest_neighbors):\n",
    "                neighbor_isbn = index_to_isbn[neighbor_idx]\n",
    "                if neighbor_isbn == isbn:  # Skip the same ISBN\n",
    "                    continue\n",
    "                R_book = [\n",
    "                    combine_book_ratings[combine_book_ratings[\"ISBN\"] == neighbor_isbn][\n",
    "                        \"Book-Title\"\n",
    "                    ].values[0],\n",
    "                    neighbor_isbn,\n",
    "                ]\n",
    "                R_books.append([R_book, distance])\n",
    "            return [isbn, R_books[::-1]]\n",
    "        else:\n",
    "            # Fallback to most popular books\n",
    "            R_books = [\n",
    "                [\n",
    "                    [\n",
    "                        combine_book_ratings[combine_book_ratings[\"ISBN\"] == book][\n",
    "                            \"Book-Title\"\n",
    "                        ].values[0],\n",
    "                        book,\n",
    "                    ],\n",
    "                    0,\n",
    "                ]\n",
    "                for book in most_popular_books[:k_neighbors]\n",
    "            ]\n",
    "            return [isbn, R_books]\n",
    "    except Exception as e:\n",
    "        pp(\"ERROR\")\n",
    "        return str(e.with_traceback())"
   ]
  },
  {
   "cell_type": "markdown",
   "metadata": {},
   "source": [
    "- pp(get_recommends(\"1558745157\")):\n",
    "    - Извиква функцията get_recommends() с ISBN \"1558745157\".\n",
    "    - Функцията ще търси най-близките съседи (книги) в индекса и ще върне списък с препоръчани книги за това ISBN.\n",
    "    - Резултатът ще бъде отпечатан чрез функцията pp(), която предполагаемо е предназначена за показване на резултата.\n",
    "- pp(get_recommends(\"0330281747\")):\n",
    "    - Извиква функцията отново, но с различно ISBN \"0330281747\".\n",
    "    - Подобно на предишния случай, ще се търсят препоръки на база на най-близките съседи за това ISBN."
   ]
  },
  {
   "cell_type": "code",
   "execution_count": 45,
   "metadata": {},
   "outputs": [
    {
     "name": "stdout",
     "output_type": "stream",
     "text": [
      "['1558745157',\n",
      " [[['L Is for Lawless', '0449221490'], 1.3697799444198608],\n",
      "  [[\"Left Behind: A Novel of the Earth's Last Days (Left Behind No. 1)\",\n",
      "    '0842329129'],\n",
      "   1.3697617053985596],\n",
      "  [['Night Sins', '055356451X'], 1.3676575422286987],\n",
      "  [['On the Street Where You Live', '0671004530'], 1.3607354164123535],\n",
      "  [['A Child Called \\\\It\\\\\": One Child\\'s Courage to Survive\"', '1558743669'],\n",
      "   1.2129415273666382]]]\n",
      "['0330281747',\n",
      " [[['Wild Animus', '0971880107'], 0],\n",
      "  [['The Lovely Bones: A Novel', '0316666343'], 0],\n",
      "  [['The Da Vinci Code', '0385504209'], 0],\n",
      "  [['Divine Secrets of the Ya-Ya Sisterhood: A Novel', '0060928336'], 0],\n",
      "  [['The Red Tent (Bestselling Backlist)', '0312195516'], 0]]]\n"
     ]
    }
   ],
   "source": [
    "# Test the function\n",
    "pp(get_recommends(\"1558745157\"))\n",
    "pp(get_recommends(\"0330281747\"))"
   ]
  },
  {
   "cell_type": "markdown",
   "metadata": {},
   "source": [
    "#### Сравнение между трите вида a-NN имплементации\n",
    "\n",
    "##### Алгоритми:\n",
    "1. k-NN\n",
    "- Предимства: Прост за имплементация и лесно разбираем.\n",
    "- Недостатъци:\n",
    "    - Изключително бавен при големи обеми данни.\n",
    "    - Ниска персонализация, тъй като използва единствено рейтинга на книгите като характеристика.\n",
    "    - Липсата на допълнителни контекстуални данни (като жанр) ограничава точността на препоръките.\n",
    "- Извод: Не е подходящ за крайно решение.\n",
    "\n",
    "2. k-NN с регресия\n",
    "- Предимства: Въвежда допълнителни характеристики (като възрастта на читателя) за по-персонализирани препоръки.\n",
    "- Недостатъци:\n",
    "    - Открита е липса на корелация между възрастта и рейтингите на книгите (p-value = 0), което прави модела логически необоснован.\n",
    "    - Производителността на модела остава ограничена.\n",
    "- Извод: Въпреки допълнителния анализ, моделът не показва достатъчно добри резултати и остава неподходящ за практическо приложение.\n",
    "\n",
    "3. HNSW (Hierarchical Navigable Small World)\n",
    "- Предимства: Подобрява скоростта и точността на препоръките спрямо стандартния k-NN.\n",
    "- Недостатъци:\n",
    "    - Забавяне при работа с големи масиви данни.\n",
    "    - Ограничен само до популярни книги (топ 10%), което намалява обхвата на препоръките.\n",
    "- Извод: Макар да е по-добър от стандартния k-NN, HNSW не е достатъчно ефективен за проблеми с големи и разнообразни набори от данни.\n",
    "\n",
    "4. FAISS (Facebook AI Similarity Search)\n",
    "- Предимства:\n",
    "    - Разглежда както популярни, така и непопулярни книги, осигурявайки по-добро покритие.\n",
    "    - Оптимизира данните чрез TF-IDF, което подобрява производителността и намалява размера на матрицата.\n",
    "- Недостатъци: Няма сериозни недостатъци при сегашния експеримент.\n",
    "- Извод: FAISS се оказва най-оптималното и точно решение за текущите данни и цели.\n",
    "\n",
    "5. Annoy (Approximate Nearest Neighbors)\n",
    "- Предимства: Лесен за имплементация и добра производителност при умерени набори от данни.\n",
    "- Недостатъци:\n",
    "    - По-бавен от FAISS.\n",
    "    - Лошо се справя с препоръките за непопулярни книги, което ограничава обхвата му.\n",
    "- Извод: Annoy показва добри резултати, но не превъзхожда FAISS по отношение на производителност и обхват.\n",
    "\n",
    "##### Общ извод\n",
    "> Алгоритъмът FAISS е най-подходящото решение за този проблем поради:\n",
    ">   - Способността си да разглежда както популярни, така и непопулярни книги.\n",
    ">   - Високата си производителност и оптимизация на данните.\n",
    ">   - Други алгоритми, като k-NN и неговите модификации, показват по-ниска ефективност или са ограничени от липсата на данни за по-сложна персонализация."
   ]
  },
  {
   "cell_type": "markdown",
   "metadata": {},
   "source": [
    "# Конфигурация на проекта\n",
    "\n",
    "- **Windows / MacOs / Linux**\n",
    "    - **Стъпка 1**: Направете директория, в която искате да разположите кода ни.\n",
    "    - **Стъпка 2**: Клонирайте следното repository: https://github.com/Nv4n/soz-project-2024-2025.git на вашата машина в току-що създадената от Вас директория. Клонирането може да стане през:\n",
    "        - терминала със следната команда: git clone със задаване на директория. Когато клонирате хранилище, можете директно да зададете целева директория, където да бъде изтеглено: git clone <URL-на-репото> <път-към-директорията>\n",
    "        - UI-я на някое IDE (например Visual Studio Code).\n",
    "    - **Стъпка 3**: Инсталирайте някой Python Extension Pack и нео=бходимите библиотеки, описани по-нагоре в този документ.\n",
    "    - **Стъпка 4**: Отворете някой от файловете с изходния код, стартирайте го и експериментирайте.\n",
    "\n",
    "> **Забележка**: И за трите операционни системи общите стъпки за конфигурация са еднакви. Разликите могат да идват от това какъв терминал използва самата операционна система или как се извикват конкретни команди."
   ]
  }
 ],
 "metadata": {
  "kernelspec": {
   "display_name": "base",
   "language": "python",
   "name": "python3"
  },
  "language_info": {
   "codemirror_mode": {
    "name": "ipython",
    "version": 3
   },
   "file_extension": ".py",
   "mimetype": "text/x-python",
   "name": "python",
   "nbconvert_exporter": "python",
   "pygments_lexer": "ipython3",
   "version": "3.12.7"
  }
 },
 "nbformat": 4,
 "nbformat_minor": 2
}
